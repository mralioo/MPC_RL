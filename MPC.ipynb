{
 "cells": [
  {
   "cell_type": "code",
   "execution_count": 1,
   "metadata": {},
   "outputs": [],
   "source": [
    "from casadi import *\n",
    "import numpy as np\n",
    "import matplotlib.pyplot as plt\n",
    "import os \n",
    "import sys\n",
    "\n",
    "from dyn_sys_eq.derive import derive\n",
    "from contextlib import contextmanager\n",
    "\n",
    "from contextlib import redirect_stdout\n",
    "import io \n",
    "\n",
    "# run \"%pip install progressbar2\" in a cell to install package\n",
    "import progressbar\n",
    "from viz.draw_class import Visualizer"
   ]
  },
  {
   "cell_type": "markdown",
   "metadata": {},
   "source": [
    "# Load system equations\n",
    "The system is loaded. It is defined as suggested by the paper \"Energy and Passivity Based Control of the Double\n",
    "Inverted Pendulum on a Cart\". The Euler-Lagrange equations are defined accordingly.\n",
    "\n",
    "The state vector is defined as follows:\n",
    "\\begin{align}\n",
    "    x_1 &= x_c, \\\\\n",
    "    x_2 &=  \\phi_1,  \\\\\n",
    "    x_3 &= \\phi_2, \\\\\n",
    "    x_4 &= \\dot{x_c}, \\\\\n",
    "    x_5 &=  \\dot{\\phi_1},\\\\\n",
    "    x_6 &= \\dot{\\phi_2}\n",
    "\\end{align}\n",
    "\n",
    "or in vector form:\n",
    "\n",
    "\\begin{align}\n",
    "\\vec{x} = \\begin{pmatrix} x_c \\\\ \\phi_1 \\\\ \\phi_2 \\\\ \\dot{x_c} \\\\ \\dot{\\phi_1} \\\\ \\dot{\\phi_2} \\end{pmatrix}\n",
    "\\end{align}\n",
    "\n",
    "The input consists only of the applied force in the range of $-4N \\leq F \\leq 4N$, and is therefor one-dimensional. As seen above the state vector is of the order six. Therefor we define:\n",
    "\n",
    "\\begin{align}\n",
    "    n_x = 6 \\\\\n",
    "    n_u = 1\n",
    "\\end{align}\n"
   ]
  },
  {
   "cell_type": "code",
   "execution_count": 2,
   "metadata": {},
   "outputs": [],
   "source": [
    "nx = 6\n",
    "nu = 1\n",
    "\n",
    "x = SX.sym(\"x\", nx)\n",
    "u = SX.sym(\"u\", nu)\n",
    "\n",
    "# get system of first order ODEs\n",
    "xdot = derive(x, u)\n",
    "\n",
    "# crate system function from first order ODEs\n",
    "system = Function(\"system\", [x, u], [xdot])"
   ]
  },
  {
   "cell_type": "markdown",
   "metadata": {},
   "source": [
    "# Global Paramters\n",
    "We set paramters:\n",
    "\n",
    "timestep: $dt = 0.02$ \n",
    "\n",
    "simulation steps: $N_{sim} = 1000$ \n",
    "\n",
    "prediction horizon: $N = 60$ \n",
    "\n",
    "initial state: $x_0 = \\begin{pmatrix} 0 \\\\ -\\pi \\\\ -\\pi \\\\ 0 \\\\ 0 \\\\ 0   \\end{pmatrix}$\n",
    "\n",
    "collocation degree: $K=3$"
   ]
  },
  {
   "cell_type": "code",
   "execution_count": 3,
   "metadata": {},
   "outputs": [],
   "source": [
    "# Timestep \n",
    "dt = 0.02\n",
    "# Define the total steps to simulate\n",
    "N_sim = 1000\n",
    "\n",
    "# prediction horizon\n",
    "N = 50\n",
    "\n",
    "# collocation degree\n",
    "K = 3\n",
    "\n",
    "# inital position \n",
    "x_0 = np.array([0,  -np.pi, -np.pi, 0, 0, 0]).reshape(nx,1)\n",
    "\n",
    "# init visualizer object\n",
    "viz = Visualizer()\n"
   ]
  },
  {
   "cell_type": "markdown",
   "metadata": {},
   "source": [
    "# Obstacle\n",
    "We will intruduce obstacles to our problem. For ease of use these will be defined as circles. Therefor our obstacles are described by their midpoint and radius. In addition we introduce a flag to toggle the obstacle on and off.\n",
    "\n",
    "Here we will insert one obstacle at $(2, 1.3)$ with radius 0.6."
   ]
  },
  {
   "cell_type": "code",
   "execution_count": 4,
   "metadata": {},
   "outputs": [],
   "source": [
    "# obstacle \n",
    "obstacle = True\n",
    "obs_pos = (2, 1.3)\n",
    "obs_rad = 0.6"
   ]
  },
  {
   "cell_type": "markdown",
   "metadata": {},
   "source": [
    "# Init Sundials ODE Solver\n",
    "As seen in Exercise 04, we use the Sundials ODE Solver to simulate the system."
   ]
  },
  {
   "cell_type": "code",
   "execution_count": 5,
   "metadata": {},
   "outputs": [],
   "source": [
    "# dict for options and ode needed for solver object\n",
    "ode = {'x': x, 'ode': xdot, 'p': u}\n",
    "opts = {'tf': dt}\n",
    "\n",
    "# Create the solver object.\n",
    "ode_solver = integrator('F', 'idas', ode, opts)\n"
   ]
  },
  {
   "cell_type": "markdown",
   "metadata": {},
   "source": [
    "# Orthoganal Collocation \n",
    "For the collocation we obtain the collocation points using the Legrende polynomial. \n",
    "To calculate those points we define the Lagrange interpolation polynomial (see Ex. 04 / Task 03) and a function to get the evaluated polynomial. "
   ]
  },
  {
   "cell_type": "code",
   "execution_count": 6,
   "metadata": {},
   "outputs": [],
   "source": [
    "# collocation points (excluding 0)\n",
    "tau_col = collocation_points(K,'legendre')\n",
    "\n",
    "# collocation points (including 0)\n",
    "tau_col = [0]+tau_col\n",
    "\n",
    "tau = SX.sym('tau')\n"
   ]
  },
  {
   "cell_type": "code",
   "execution_count": 7,
   "metadata": {},
   "outputs": [],
   "source": [
    "# Return Lagrange basis polynomial for list of collocation points\n",
    "def L(tau_col, tau, j):\n",
    "    l = 1\n",
    "    for k in range(len(tau_col)):\n",
    "        if k!=j:\n",
    "            l *= (tau-tau_col[k])/(tau_col[j]-tau_col[k]) \n",
    "    return l\n",
    "\n",
    "def LInt(tau_col, tau, j):\n",
    "    z = np.poly1d([1])\n",
    "    for k in range(len(tau_col)):\n",
    "        if k!=j:\n",
    "            z *= np.poly1d([1, -tau_col[k]]) / (tau_col[j]-tau_col[k])   \n",
    "    z_int = np.polyint(z)\n",
    "    return np.sum(z_int.coef)\n"
   ]
  },
  {
   "cell_type": "markdown",
   "metadata": {},
   "source": [
    "Calculate the orthogonal collocation coefficients $a_{j,k}$ and store them in a matrix $A$. These are the collocation constraints."
   ]
  },
  {
   "cell_type": "code",
   "execution_count": 8,
   "metadata": {},
   "outputs": [],
   "source": [
    "\n",
    "tau = SX.sym('tau')\n",
    "\n",
    "A = np.zeros((K+1,K+1))\n",
    "\n",
    "for j in range(K+1):\n",
    "    dLj = gradient(L(tau_col, tau, j), tau)\n",
    "    dLj_fcn = Function('dLj_fcn', [tau], [dLj])\n",
    "    for k in range(K+1):\n",
    "        A[j,k] = dLj_fcn(tau_col[k])"
   ]
  },
  {
   "cell_type": "markdown",
   "metadata": {},
   "source": [
    "Caculate the contuinity coeffcient $d_j$ and store them in the vector $D$. We need these to make sure that a given final state of a finite element equals then start state of the following. Additionally calculate coefficients of integrated Lagrange Polynom and store them in $B$"
   ]
  },
  {
   "cell_type": "code",
   "execution_count": 9,
   "metadata": {},
   "outputs": [],
   "source": [
    "D = np.zeros((K+1,1))\n",
    "B = np.zeros((K+1,1)) # Coefficients of quadrature eq\n",
    "\n",
    "for j in range(K+1):\n",
    "    Lj = L(tau_col, tau, j)\n",
    "    Lj_fcn = Function('Lj', [tau], [Lj])\n",
    "    D[j] = Lj_fcn(1)\n",
    "    \n",
    "    L_int_j = LInt(tau_col, tau, j)\n",
    "    B[j] = L_int_j\n"
   ]
  },
  {
   "cell_type": "markdown",
   "metadata": {},
   "source": [
    "## Integrate with orthogonal collaction "
   ]
  },
  {
   "cell_type": "markdown",
   "metadata": {},
   "source": [
    "# Define the MPC optimazation problem"
   ]
  },
  {
   "cell_type": "markdown",
   "metadata": {},
   "source": [
    "use quadratic cost function \n",
    "$$l(x_{i,0},u_i) = x_{i,0}^T Q x_{i,0} + u_i^T R u_i $$\n",
    "\n",
    "where Q and R are positive definite diagonal matrices. \n",
    "For the terminal cost we have a slightly altered expression:\n",
    "\n",
    "$$ m(x_{N+1,0}) = x_{N+1,0}^T P x_{N+1,0}, $$ \n",
    "\n",
    "For simplicity we assume $P=Q$."
   ]
  },
  {
   "cell_type": "markdown",
   "metadata": {},
   "source": [
    "## Define Constrains\n",
    "Most important are the constraints for the input force. As mentioned before they are set to $\\pm 4N$. We dont have specific constraints for the state vector. We will limit the cart position to $x$ values between $-6$ and $6$ which shall reduce the amount of cart movement. Since we dont want to put any constraints on the periodic pole angles we set those limits to $\\pm \\infty$ respectively. For the remaining states we will choose a constraint of  $\\pm 30$, which is choosen abitrarily, although it should not be to small so it will not infulence the result to much or even lead to a infeasible problem. "
   ]
  },
  {
   "cell_type": "code",
   "execution_count": 10,
   "metadata": {},
   "outputs": [],
   "source": [
    "# state constraints\n",
    "lb_x = -30*np.ones((nx,1))\n",
    "lb_x[0] = -6\n",
    "lb_x[1] = -np.inf\n",
    "lb_x[2] = -np.inf\n",
    "\n",
    "\n",
    "ub_x = 30*np.ones((nx,1))\n",
    "ub_x[0] = 6\n",
    "ub_x[1] = np.inf\n",
    "ub_x[2] = np.inf\n",
    "\n",
    "# input constraints\n",
    "lb_u = -4*np.ones((nu,1))\n",
    "ub_u = 4*np.ones((nu,1))\n"
   ]
  },
  {
   "cell_type": "markdown",
   "metadata": {},
   "source": [
    "## Cost function\n",
    "We implemented a weighted energy and state based Cost function.\n",
    "For the stage as well as the terminal cost in terms of state costs the carts position is most important. The state cost will mostly be used to get the cart in the desired location. \n",
    "The cart position is weihgted more for the terminal cost, since the cart should be on target at the end and its not as bad if it differes from this position in the process.\n",
    "\n",
    "For the pole angles we need to take into account its periodicity. To do so we will set the stage weights for it to 0 and redefine it seperatly later.\n",
    "\n",
    "The pendulum is fully errect for pole angles of $2\\cdot\\pi \\cdot k$ with $k \\in \\mathbb{Z}$. To reflect this in our cost function we use following equation:\n",
    "\n",
    "$J_{phi1,2} =\\sin(0.5\\cdot x_1)^2 + \\sin(0.5\\cdot x_2)^2$\n",
    "\n",
    "This term can simply be added to the Cost function. This angle cost function will also be weighted. As for the cart position the angle should be optimazied in the end and therefor our terminal weight will be higher. In the same manner we add weights to the Energy cost.\n",
    "\n",
    "We introduce the following cost weights:\n",
    "\n",
    "| Cost variable |  |\n",
    "| :- | :- |\n",
    "| $w_{stage,phi}$ | Weight for stage cost of angles |\n",
    "| $w_{terminal,phi}$ | Weight for terminal cost of angles |     \n",
    "| $Q_{stage}$ | Weight for stage cost of states |   \n",
    "| $Q_{terminal}$ | Weight for terminal cost of states |     \n",
    "| $w_{stage,energy}$ | Weight for stage cost of energies |     \n",
    "| $w_{terminal,energy}$ | Weight for terminal cost of energies |       \n",
    "\n"
   ]
  },
  {
   "cell_type": "code",
   "execution_count": 11,
   "metadata": {},
   "outputs": [],
   "source": [
    "Q_stage = np.diag([10,0,0,1,1,1])\n",
    "\n",
    "Q_term = np.diag([100,0,0,1,1,1])\n",
    "\n",
    "#weights angle tracking\n",
    "w_stage_phi = 1\n",
    "w_term_phi = 10\n",
    "\n",
    "#weights energy \n",
    "w_stage_energy = 1\n",
    "w_term_energy = 10\n",
    "\n",
    "R = 1"
   ]
  },
  {
   "cell_type": "markdown",
   "metadata": {},
   "source": [
    "We define:\n",
    "\n",
    "\n",
    "| Variable     |  |\n",
    "| :- | :- |\n",
    "| $l_{1,2} = 0.25$ | Distance from pole joint to pole center of mass |\n",
    "| $L_{1,2} = 2 \\cdot l_{1,2} = 0.5$ | Length of pole |\n",
    "| $J_{1,2} = \\frac{1}{12} \\cdot m_{1,2} \\cdot L_{1,2}^2$ | Inertias of pole joints with respect to the center of mass |\n",
    "\n",
    "\n",
    "With our states the kinetic energy is defined as follows:\n",
    "\n",
    "\\begin{align}\n",
    "E_{kin,1} &= \\frac{1}{2}\\cdot m\\cdot x_3^2 \\\\\n",
    "E_{kin,2} &= \\frac{1}{2}\\cdot m1\\cdot ((x_3 + l_1\\cdot x_4 \\cdot \\cos(x_1))^2 + (l_1\\cdot x_4 \\cdot \\sin(x_1))^ 2) + 1/2\\cdot J_1\\cdot x_4^2 \\\\\n",
    "E_{kin,3} &= \\frac{1}{2}\\cdot m_2\\cdot ((x_3 + L_1\\cdot x_4 \\cdot \\cos(x_1) + l_2\\cdot x_5 \\cdot \\cos(x_2))^2 + (L_1\\cdot x_4\\cdot \\sin(x_1) + l_2\\cdot x_5\\cdot sin(x_2))^2) + 1/2\\cdot J_2\\cdot x_4^2 \\\\\n",
    "E_{kin} &= E_{kin,1} + E_{kin,2} + E_{kin,3} \n",
    "\\end{align}\n",
    "\n",
    "\n",
    "To make it more readable the kinetic energy is shown seperatly for each pole joint. Then we calculate the potential energy as well:\n",
    "\n",
    "\n",
    "\\begin{align}\n",
    "E_{pot} = m_1\\cdot g\\cdot l_1\\cdot \\cos(x_1) + m_2\\cdot g\\cdot (L_1\\cdot \\cos(x_1) + l_2\\cdot \\cos(x_2))\n",
    "\\end{align}\n",
    "\n",
    "\n",
    "For the stage cost we want to maximize the total energy and for the terminal cost we want to maximizie potential energy and minimize kinetic energy. In addition our state based cost function has to be minimal (this mainly means the cart position must be near target).\n",
    "\n",
    "To take the states into account we substract the target state from the state vector which is used to calculate those energies. So we get new states:\n",
    "\n",
    "\\begin{align}  \n",
    "\\vec{x}_{new} = \\vec{x} - \\vec{x}_{target}\n",
    "\\end{align}\n",
    "\n",
    "We can calculate the total energy by adding potential and kinetic energy:\n",
    "\n",
    "\\begin{align}\n",
    "E_{total} = E_{kin} + E_{pot}\n",
    "\\end{align}\n",
    "\n",
    "The total potential energy in the target space is then:\n",
    "\n",
    "\\begin{align}\n",
    "E_{pot, target} = E_{pot} \\big|_{\\phi_1 = \\phi_2 = 0} =  m_1 \\cdot g \\cdot l_1 + m_2 \\cdot g \\cdot (L_1 + l_2)\n",
    "\\end{align}\n",
    "\n",
    "The total energy in the target state is then simply:\n",
    "\n",
    "\\begin{align}\n",
    "E_{target} = 0 + E_{pot} \\big|_{\\phi_1 = \\phi_2 = 0} = E_{pot, target}\n",
    "\\end{align}\n",
    "\n",
    "The kinetic energy shall be zero since we dont want cart movement in the target position. Using this we define our cost functions and weigh them according to the weights defined above:\n",
    "\n",
    "\\begin{align}\n",
    "J_{stage} &= {\\vec{x}_{new}}^T \\cdot W_{stage} \\cdot \\vec{x}_{new} + u^T \\cdot R \\cdot u \\\\\n",
    "J_{terminal} &= {\\vec{x}_{new}}^T \\cdot W_{term} \\cdot \\vec{x}_{new}\n",
    "\\end{align}\n",
    "\n",
    "Notice that by defining the cost in this way we also get the state vectors squared. Then we add the altered costs for the angles:\n",
    "\n",
    "\\begin{align}\n",
    "J_{phi,1,2} &= \\sin(0.5 \\cdot x_1)^2 + \\sin(0.5 \\cdot x_2)^2 \\\\\n",
    "J_{stage} &+= w_{stage,phi} \\cdot J_{phi,1,2} \\\\\n",
    "J_{terminal} &+= w_{term,phi} \\cdot J_{phi,1,2}\n",
    "\\end{align}\n",
    "\n",
    "And adding the energy based costs:\n",
    "\n",
    "\\begin{align}\n",
    "J_{stage} &+= w_{stage,energy} \\cdot (E_{target} - E_{ges})^2 \\\\\n",
    "J_{terminal} &+= w_{term,energy} \\cdot ( (E_{target} - E_{pot})^2 + E_{kin}^2)\n",
    "\\end{align}\n",
    "\n"
   ]
  },
  {
   "cell_type": "code",
   "execution_count": 12,
   "metadata": {},
   "outputs": [],
   "source": [
    "# model parameters\n",
    "m = 0.6 \n",
    "m1 = 0.2\n",
    "m2 = 0.2\n",
    "l1 = 0.25 \n",
    "l2 = 0.25\n",
    "g = 9.81 \n",
    "L1 = 2*l1 \n",
    "L2 = 2*l2\n",
    "J1 = m1*L1**2/12 \n",
    "J2 = m2*L2**2/12\n",
    "\n",
    "x_target1 = np.array([[0],[0],[0],[0],[0],[0]])\n",
    "x_target2 = np.array([[4],[0],[0],[0],[0],[0]])\n",
    "x_target = SX.sym(\"x_target\",nx,1)\n",
    "\n",
    "x_new = x - x_target\n",
    "#state costs\n",
    "J_stage = x_new.T@Q_stage@x_new + u.T@R@u\n",
    "J_terminalp = x_new.T@Q_term@x_new\n",
    "\n",
    "#phi has equilibria in 2*pi*k \n",
    "J_phi1_phi2 = (sin(0.5*x_new[1])**2 + sin(0.5*x_new[2])**2)\n",
    "J_stage += w_stage_phi * J_phi1_phi2\n",
    "J_terminalp += w_term_phi * J_phi1_phi2\n",
    "\n",
    "\n",
    "\n",
    "#Energy based\n",
    "#kinetic energy\n",
    "E_kin_1 = 1/2*m*x_new[3]**2\n",
    "E_kin_2 = 1/2*m1*((x_new[3] + l1*x_new[4]*cos(x_new[1]))**2 + (l1*x_new[4]*sin(x_new[1]))**2) + 1/2*J1*x_new[4]**2\n",
    "E_kin_3 = 1/2*m2*((x_new[3] + L1*x_new[4]*cos(x_new[1]) + l2*x_new[5]*cos(x_new[2]))**2 + (L1*x_new[4]*sin(x_new[1]) + l2*x_new[5]*sin(x_new[2]))**2) + 1/2*J2*x_new[4]**2\n",
    "\n",
    "# total kinetic & potential energy\n",
    "E_kin_ges = E_kin_1 + E_kin_2 + E_kin_3\n",
    "E_pot_ges = 0 + m1*g*l1*cos(x_new[1]) + m2*g*(L1*cos(x_new[1]) + l2*cos(x_new[2]))\n",
    "\n",
    "#Total energy\n",
    "E_ges = E_kin_ges + E_pot_ges\n",
    "\n",
    "# Potential energy is max when fully errected => phi1 = phi2 = 0\n",
    "E_pot_ges_target = 0 + m1*g*l1 + m2*g*(L1 + l2)\n",
    "\n",
    "# Target total energy is equal to the maximal potential energy, since E-kin should be zero in the target position\n",
    "E_ges_target = 0 + E_pot_ges_target\n",
    "\n",
    "#stage cost: maximize the total energy\n",
    "J_stage += w_stage_energy * (E_ges_target - E_ges)**2\n",
    "#terminal cost: maximize the potential energy and minimize the kinetic energy\n",
    "J_terminalp += w_term_energy * (E_pot_ges_target - E_pot_ges)**2 + w_term_energy * (E_kin_ges)**2\n",
    "\n",
    "\n",
    "stage_cost_fcn = Function(\"J_stage\",[x,u, x_target],[J_stage])\n",
    "terminal_cost_fcn = Function('J_terminal',[x, x_target],[J_terminalp])\n",
    "\n"
   ]
  },
  {
   "cell_type": "markdown",
   "metadata": {},
   "source": [
    "## Define Optimazation Problem\n",
    "We start by setting the lower and upper bounds for out states. Then we initialize variables for the Cost, constraints and bounds."
   ]
  },
  {
   "cell_type": "code",
   "execution_count": 13,
   "metadata": {},
   "outputs": [],
   "source": [
    "from casadi.tools import *\n",
    "\n",
    "# define optimazation variables including orthoganl collaction constraints\n",
    "opt_x = struct_symSX([\n",
    "    entry('x', shape=nx, repeat=[N+1, K+1]),\n",
    "    entry('u', shape=nu, repeat=[N])\n",
    "])\n",
    "\n",
    "lb_opt_x = opt_x(0)\n",
    "ub_opt_x = opt_x(0)\n",
    "\n",
    "# set desired bounds for input \n",
    "lb_opt_x['x'] = lb_x\n",
    "ub_opt_x['x'] = ub_x\n",
    "\n",
    "lb_opt_x['u'] = lb_u\n",
    "ub_opt_x['u'] = ub_u"
   ]
  },
  {
   "cell_type": "code",
   "execution_count": 14,
   "metadata": {},
   "outputs": [],
   "source": [
    "J = 0\n",
    "g = []    # constraint expression g\n",
    "lb_g = []  # lower bound for constraint expression g\n",
    "ub_g = []  # upper bound for constraint expression g"
   ]
  },
  {
   "cell_type": "markdown",
   "metadata": {},
   "source": [
    "We calculate the constraints. First we add the collocation, continuity and quadrature constraints. If the obstacle flag is set we additionally calculate the points which would fall into the obstacles (dependant of the current state vector) and add constraints for them. \n",
    "\n",
    "For every step in the prediction horizon we do this, calculate and store the stage cost and finnaly add the terminal cost vetcor. These values are then passed to the mpc solver as arguments."
   ]
  },
  {
   "cell_type": "code",
   "execution_count": 15,
   "metadata": {},
   "outputs": [],
   "source": [
    "x_init = SX.sym('x_init', nx)\n",
    "\n",
    "x0 = opt_x['x', 0, 0]\n",
    "\n",
    "g.append(x0-x_init)\n",
    "lb_g.append(np.zeros((nx,1)))\n",
    "ub_g.append(np.zeros((nx,1)))\n",
    "\n",
    "for i in range(N):\n",
    "    # objective\n",
    "    # J += stage_cost_fcn(opt_x['x',i,0], opt_x['u',i])\n",
    "    \n",
    "    # equality constraints (system equation)\n",
    "    for k in range(1,K+1):\n",
    "        gk = -dt*system(opt_x['x',i,k], opt_x['u',i])\n",
    "        for j in range(K+1):\n",
    "            gk += A[j,k]*opt_x['x',i,j]\n",
    "            \n",
    "        \n",
    "        g.append(gk)\n",
    "        lb_g.append(np.zeros((nx,1)))\n",
    "        ub_g.append(np.zeros((nx,1))) \n",
    "        \n",
    "        cost = stage_cost_fcn(opt_x['x',i,k-1], opt_x['u',i], x_target)\n",
    "        \n",
    "        J += B[k]*cost*dt\n",
    "\n",
    "    \n",
    "    # add obstacle constraints\n",
    "    if obstacle:\n",
    "        for state_vec in opt_x[\"x\", i, :]:\n",
    "            # circle equation to check if points are within circle (x-x_0)**2 + (y-y_0)**2 - r**2 >= 0\n",
    "            # cart constraint \n",
    "            g_xc = (state_vec[0] - obs_pos[0])**2 + obs_pos[1]**2 - obs_rad**2           \n",
    "            \n",
    "            \n",
    "            # end point pole 1 \n",
    "            p_1 = np.array([state_vec[0] + L1 * np.sin(state_vec[1]), L1 * np.cos(state_vec[1])])\n",
    "            g_p1 = (p_1[0] - obs_pos[0])**2 + (p_1[1] - obs_pos[1])**2 - obs_rad**2\n",
    "            \n",
    "            # middle point cart & pole 1\n",
    "            p_05 = np.array([state_vec[0] + l1 * np.sin(state_vec[1]), l1 * np.cos(state_vec[1])])\n",
    "            g_p05 = (p_05[0] - obs_pos[0])**2 + (p_05[1] - obs_pos[1])**2 - obs_rad**2\n",
    "            \n",
    "            # end point pole 2\n",
    "            p_2 =  np.array([p_1[0] + L2 *np.sin(state_vec[2]), p_1[1] + L2 * np.cos(state_vec[2])])\n",
    "            g_p2 = (p_2[0] - obs_pos[0])**2 + (p_2[1] - obs_pos[1])**2 - obs_rad**2\n",
    "            \n",
    "            # middle point pole 1 & pole2\n",
    "            p_15 = np.array([p_1[0] + l2 *np.sin(state_vec[2]), p_1[1] + l2 * np.cos(state_vec[2])])\n",
    "            g_p15 = (p_15[0] - obs_pos[0])**2 + (p_15[1] - obs_pos[1])**2 - obs_rad**2\n",
    "            \n",
    "            # add bounds for all points \n",
    "            g.append(np.asarray([g_xc, g_p1, g_p05, g_p2, g_p15]).reshape(5,1))\n",
    "            lb_g.append(np.zeros((5,1)))\n",
    "            ub_g.append(500*np.ones((5,1)))\n",
    "\n",
    "\n",
    "    \n",
    "    x_next = horzcat(*opt_x['x',i])@D\n",
    "    g.append(x_next - opt_x['x', i+1, 0])\n",
    "    lb_g.append(np.zeros((nx,1)))\n",
    "    ub_g.append(np.zeros((nx,1)))\n",
    "    \n",
    "\n",
    "J += terminal_cost_fcn(opt_x['x', N, 0], x_target)\n",
    "\n",
    "g = vertcat(*g)\n",
    "\n",
    "prob = {'f':J,'x':vertcat(opt_x),'g':g, 'p':vertcat(x_init, x_target)}\n",
    "mpc_solver = nlpsol('solver','ipopt',prob)\n",
    "# 06"
   ]
  },
  {
   "cell_type": "code",
   "execution_count": 16,
   "metadata": {},
   "outputs": [],
   "source": [
    "lb_g = vertcat(*lb_g)\n",
    "ub_g = vertcat(*ub_g)"
   ]
  },
  {
   "cell_type": "markdown",
   "metadata": {},
   "source": [
    "# MPC loop\n",
    "To see if the problem converges at all we just run one iteration first and if it works continue with the full mpc loop."
   ]
  },
  {
   "cell_type": "code",
   "execution_count": 17,
   "metadata": {
    "scrolled": true
   },
   "outputs": [
    {
     "name": "stdout",
     "output_type": "stream",
     "text": [
      "\n",
      "******************************************************************************\n",
      "This program contains Ipopt, a library for large-scale nonlinear optimization.\n",
      " Ipopt is released as open source code under the Eclipse Public License (EPL).\n",
      "         For more information visit http://projects.coin-or.org/Ipopt\n",
      "******************************************************************************\n",
      "\n",
      "This is Ipopt version 3.12.3, running with linear solver mumps.\n",
      "NOTE: Other linear solvers might be more efficient (see Ipopt documentation).\n",
      "\n",
      "Number of nonzeros in equality constraint Jacobian...:     7506\n",
      "Number of nonzeros in inequality constraint Jacobian.:     2200\n",
      "Number of nonzeros in Lagrangian Hessian.............:     3666\n",
      "\n",
      "Total number of variables............................:     1274\n",
      "                     variables with only lower bounds:        0\n",
      "                variables with lower and upper bounds:      866\n",
      "                     variables with only upper bounds:        0\n",
      "Total number of equality constraints.................:     1206\n",
      "Total number of inequality constraints...............:     1000\n",
      "        inequality constraints with only lower bounds:        0\n",
      "   inequality constraints with lower and upper bounds:     1000\n",
      "        inequality constraints with only upper bounds:        0\n",
      "\n",
      "iter    objective    inf_pr   inf_du lg(mu)  ||d||  lg(rg) alpha_du alpha_pr  ls\n",
      "   0  0.0000000e+00 3.14e+00 0.00e+00  -1.0 0.00e+00    -  0.00e+00 0.00e+00   0\n",
      "   1  4.0051958e+00 3.09e+00 1.04e+00  -1.0 8.43e+01  -4.0 5.14e-02 1.80e-02f  3\n",
      "   2  5.0781617e+00 3.08e+00 2.17e+00  -1.0 8.15e+01  -4.5 6.03e-02 2.32e-03h  6\n",
      "   3  5.2961893e+00 3.08e+00 3.79e+00  -1.0 8.34e+01  -5.0 6.08e-02 4.49e-04h  8\n",
      "   4  5.7304407e+00 3.07e+00 7.66e+00  -1.0 8.31e+01  -5.4 8.35e-02 8.87e-04h  7\n",
      "   5  6.2377614e+00 3.07e+00 1.95e+01  -1.0 8.20e+01  -5.9 1.09e-01 1.03e-03h  7\n",
      "   6  7.4531491e+00 3.06e+00 4.45e+01  -1.0 8.16e+01  -6.4 1.11e-01 2.44e-03h  6\n",
      "   7  8.8286469e+00 3.06e+00 7.93e+01  -1.0 8.43e+01  -6.9 7.78e-02 2.68e-03h  6\n",
      "   8  9.3512482e+00 3.05e+00 1.22e+02  -1.0 9.08e+01  -7.3 5.68e-02 1.00e-03h  7\n",
      "   9  1.0166555e+01 3.05e+00 1.67e+02  -1.0 9.82e+01  -7.8 4.29e-02 1.52e-03h  6\n",
      "iter    objective    inf_pr   inf_du lg(mu)  ||d||  lg(rg) alpha_du alpha_pr  ls\n",
      "  10  1.0340256e+01 3.05e+00 2.20e+02  -1.0 1.07e+02  -8.3 3.65e-02 3.12e-04h  8\n",
      "  11  7.8221268e+01 2.94e+00 2.07e+02  -1.0 1.21e+02  -8.8 3.02e-02 3.45e-02w  1\n",
      "  12  1.6365769e+02 2.89e+00 2.94e+02  -1.0 2.30e+02  -9.2 4.37e-02 1.65e-02w  1\n",
      "  13  3.3201009e+02 2.88e+00 3.03e+02  -1.0 2.15e+03  -1.4 2.62e-03 3.47e-03w  1\n",
      "  14  1.0644209e+01 3.04e+00 2.74e+02  -1.0 1.34e+02  -0.1 3.02e-02 5.39e-04h  6\n",
      "  15  1.0651678e+01 3.04e+00 7.93e+02  -1.0 9.02e+01  -0.6 1.95e-01 1.15e-05h 14\n",
      "  16  1.1243815e+01 3.04e+00 8.71e+02  -1.0 2.75e+02  -1.0 1.54e-02 9.72e-04f  5\n",
      "  17  1.1297842e+01 3.04e+00 9.22e+02  -1.0 4.09e+02  -1.5 9.22e-03 7.88e-05h  8\n",
      "  18  1.1327102e+01 3.04e+00 9.74e+02  -1.0 3.90e+02  -2.0 9.38e-03 4.23e-05h  9\n",
      "  19  1.1348389e+01 3.04e+00 1.02e+03  -1.0 5.41e+02  -2.5 7.26e-03 3.04e-05h  9\n",
      "iter    objective    inf_pr   inf_du lg(mu)  ||d||  lg(rg) alpha_du alpha_pr  ls\n",
      "  20  3.0458093e+01 3.02e+00 1.01e+03  -1.0 4.40e+02  -2.9 8.24e-03 8.24e-03s 16\n",
      "  21  5.5278366e+01 3.00e+00 1.00e+03  -1.0 3.99e+02  -3.4 4.80e-03 4.80e-03s 16\n",
      "  22r 5.5278366e+01 3.00e+00 1.00e+03   0.5 0.00e+00  -3.9 0.00e+00 0.00e+00R  1\n",
      "  23r 5.7855159e+01 3.00e+00 9.76e+02   0.5 1.15e+01    -  4.40e-01 2.31e-02f  1\n",
      "  24r 1.6449827e+02 2.96e+00 5.39e+02   0.5 8.36e+00    -  4.35e-02 5.03e-01f  1\n",
      "  25r 4.9055740e+02 2.90e+00 7.24e-01   0.5 8.27e+00    -  1.00e+00 1.00e+00f  1\n",
      "  26r 2.1090485e+02 2.85e+00 2.12e+01  -0.2 1.07e+01    -  8.64e-01 7.02e-01f  1\n",
      "  27r 2.0575631e+02 2.85e+00 5.31e+02  -0.9 3.77e+00    -  1.00e+00 3.83e-02f  1\n",
      "  28r 3.0275498e+02 2.79e+00 3.85e+02  -0.9 5.79e+00    -  8.32e-01 5.40e-01f  1\n",
      "  29r 5.5540315e+02 2.72e+00 8.74e+00  -0.9 5.13e+00    -  1.00e+00 9.74e-01f  1\n",
      "iter    objective    inf_pr   inf_du lg(mu)  ||d||  lg(rg) alpha_du alpha_pr  ls\n",
      "  30r 5.5160119e+02 2.72e+00 2.76e-03  -0.9 2.22e-01    -  1.00e+00 1.00e+00f  1\n",
      "  31r 5.4596373e+02 2.73e+00 3.49e+00  -3.6 1.96e-01    -  8.81e-01 9.25e-01f  1\n",
      "  32r 5.5038925e+02 2.72e+00 2.11e+01  -3.6 2.26e-01   0.0 7.52e-01 8.19e-01f  1\n",
      "  33r 5.6199293e+02 2.71e+00 5.78e+01  -3.6 8.74e-01  -0.5 3.81e-01 1.00e+00f  1\n",
      "  34r 3.1567394e+03 7.36e+00 5.39e+02  -3.6 5.95e+01  -1.0 1.19e-02 3.02e-01f  1\n",
      "  35r 3.1461618e+03 7.34e+00 5.63e+02  -3.6 1.28e+01  -0.5 3.16e-02 2.31e-03h  1\n",
      "  36r 3.1481136e+03 7.33e+00 5.88e+02  -3.6 1.98e+01  -1.0 6.30e-02 2.39e-03h  1\n",
      "  37r 3.0204429e+03 7.11e+00 5.95e+02  -3.6 1.37e+01  -0.6 6.18e-02 2.94e-02h  1\n",
      "  38r 2.8536135e+03 6.86e+00 5.52e+02  -3.6 1.16e+01  -0.2 2.25e-02 3.55e-02h  1\n",
      "  39r 2.7764674e+03 6.73e+00 6.57e+02  -3.6 1.44e+01  -0.6 2.17e-01 1.97e-02h  1\n",
      "iter    objective    inf_pr   inf_du lg(mu)  ||d||  lg(rg) alpha_du alpha_pr  ls\n",
      "  40r 2.4658893e+03 6.21e+00 6.08e+02  -3.6 1.16e+01  -0.2 8.16e-02 7.95e-02h  1\n",
      "  41r 2.4613564e+03 6.20e+00 7.18e+02  -3.6 1.34e+01  -0.7 5.36e-01 1.34e-03h  1\n",
      "  42r 2.0386332e+03 5.35e+00 6.12e+02  -3.6 1.03e+01  -0.3 1.43e-01 1.45e-01h  1\n",
      "  43r 1.7370055e+03 4.58e+00 4.13e+02  -3.6 1.14e+01  -0.7 9.41e-01 1.58e-01h  1\n",
      "  44r 1.7362813e+03 4.58e+00 7.69e+02  -3.6 6.84e+00  -0.3 9.05e-01 4.56e-04h  1\n",
      "  45r 1.5618492e+03 4.03e+00 6.57e+02  -3.6 5.83e+00   0.1 1.17e-01 1.28e-01h  1\n",
      "  46r 1.5146491e+03 3.84e+00 4.88e+02  -3.6 5.87e+00  -0.4 1.00e+00 4.84e-02h  1\n",
      "  47r 1.4119492e+03 3.45e+00 6.24e+02  -3.6 5.11e+00   0.1 3.06e-01 1.07e-01h  1\n",
      "  48r 1.4109515e+03 3.44e+00 4.67e+02  -3.6 5.03e+00  -0.4 1.00e+00 1.54e-03h  1\n",
      "  49r 1.2701789e+03 2.83e+00 5.61e+02  -3.6 5.92e+00   0.0 5.14e-01 1.98e-01h  1\n",
      "iter    objective    inf_pr   inf_du lg(mu)  ||d||  lg(rg) alpha_du alpha_pr  ls\n",
      "  50r 1.2696131e+03 2.82e+00 3.96e+02  -3.6 5.36e+00  -0.5 5.24e-01 2.03e-03h  1\n",
      "  51r 1.1853661e+03 2.60e+00 3.78e+02  -3.6 6.08e+00  -0.0 3.00e-01 1.63e-01h  1\n",
      "  52r 1.1818610e+03 2.60e+00 2.84e+02  -3.6 4.32e+00  -0.5 5.11e-01 2.40e-02h  1\n",
      "  53r 1.1581758e+03 2.60e+00 3.51e+02  -3.6 4.89e+00  -0.1 6.97e-01 6.29e-02h  1\n",
      "  54r 1.1581826e+03 2.60e+00 3.38e+02  -3.6 4.95e+00  -0.6 1.20e-01 6.85e-04h  1\n",
      "  55r 1.0887066e+03 2.62e+00 2.23e+02  -3.6 1.54e+01  -0.1 1.00e+00 3.33e-01h  1\n",
      "  56r 1.0855497e+03 2.62e+00 1.13e+02  -3.6 3.18e+00  -0.6 3.07e-01 2.27e-02h  1\n",
      "  57r 1.0717535e+03 2.62e+00 1.12e+02  -3.6 2.43e+00  -0.2 3.14e-01 8.53e-02h  1\n",
      "  58r 1.0335077e+03 2.62e+00 9.25e+01  -3.6 3.47e+00  -0.7 2.80e-02 2.54e-01h  1\n",
      "  59r 1.0322522e+03 2.62e+00 8.97e+01  -3.6 1.87e+00  -0.2 1.42e-01 1.17e-02h  1\n",
      "iter    objective    inf_pr   inf_du lg(mu)  ||d||  lg(rg) alpha_du alpha_pr  ls\n",
      "  60r 9.3941339e+02 2.62e+00 2.40e+02  -3.6 2.73e+00  -0.7 3.42e-02 5.15e-01f  1\n",
      "  61r 9.1602555e+02 2.62e+00 1.37e+02  -3.6 1.13e+00  -0.3 4.53e-01 4.78e-01h  1\n",
      "  62r 8.1871686e+02 2.60e+00 5.93e+01  -3.6 2.87e+00  -0.8 8.19e-01 1.00e+00f  1\n",
      "  63r 6.4303377e+02 3.96e+00 1.52e+02  -3.6 8.76e+01  -1.2 1.63e-02 1.03e-01f  1\n",
      "  64r 6.4303240e+02 3.96e+00 1.58e+02  -3.6 9.36e+00  -0.8 2.88e-02 1.78e-04h  1\n",
      "  65r 6.1145661e+02 2.85e+00 1.79e+02  -3.6 7.34e+00  -0.4 3.91e-02 2.99e-01f  1\n",
      "  66r 6.1143806e+02 2.85e+00 9.43e+02  -3.6 5.17e+00   0.0 5.44e-01 3.08e-04h  1\n",
      "  67r 5.9044095e+02 2.62e+00 8.37e+02  -3.6 4.66e+00  -0.4 2.25e-02 3.91e-01f  1\n",
      "  68r 5.9001839e+02 2.62e+00 3.52e+02  -3.6 2.34e+00  -0.0 1.00e+00 2.74e-02h  1\n",
      "  69r 5.8390095e+02 2.64e+00 2.92e+02  -3.6 2.54e+00  -0.5 1.71e-01 1.69e-01f  1\n",
      "iter    objective    inf_pr   inf_du lg(mu)  ||d||  lg(rg) alpha_du alpha_pr  ls\n",
      "  70r 5.8001895e+02 2.66e+00 1.41e+02  -3.6 1.68e+00  -0.1 6.57e-01 2.71e-01h  1\n",
      "  71r 5.3233362e+02 2.77e+00 2.61e+02  -3.6 3.08e+00  -0.5 3.14e-03 7.46e-01f  1\n",
      "  72r 5.3106243e+02 2.77e+00 3.07e+02  -3.6 1.41e+00  -0.1 1.00e+00 5.93e-02f  1\n",
      "  73r 5.2563527e+02 2.81e+00 3.06e+02  -3.6 9.55e+00  -0.6 9.53e-02 3.93e-02f  1\n",
      "  74r 5.2297365e+02 2.82e+00 3.16e+02  -3.6 1.84e+00  -0.2 1.00e+00 9.94e-02f  1\n",
      "  75r 4.9533982e+02 3.00e+00 5.43e+02  -3.6 1.87e+01  -0.6 2.50e-01 1.03e-01f  1\n",
      "  76r 4.9500911e+02 3.00e+00 5.08e+02  -3.6 2.79e+00  -0.2 1.00e+00 1.29e-02f  1\n",
      "  77r 4.9344194e+02 3.00e+00 4.45e+02  -3.6 1.31e+00   0.2 2.84e-01 1.39e-01h  1\n",
      "  78r 4.9220987e+02 3.04e+00 2.23e+02  -3.6 3.18e+00  -0.3 1.00e+00 5.13e-01f  1\n",
      "  79r 4.9972946e+02 3.06e+00 1.04e+02  -3.6 1.04e+00   0.2 4.63e-01 8.89e-01f  1\n",
      "iter    objective    inf_pr   inf_du lg(mu)  ||d||  lg(rg) alpha_du alpha_pr  ls\n",
      "  80r 5.3203801e+02 3.10e+00 1.11e+02  -3.6 5.70e+00  -0.3 1.18e-01 2.41e-01f  1\n",
      "  81r 6.0678038e+02 3.10e+00 3.07e+02  -3.6 1.86e+00   0.1 1.80e-01 1.00e+00f  1\n",
      "  82r 6.8514818e+02 3.05e+00 5.51e+02  -3.6 2.87e+01  -0.4 1.64e-03 5.40e-02f  1\n",
      "  83r 6.8037449e+02 3.04e+00 4.75e+02  -3.6 2.84e+00   0.1 3.44e-01 9.93e-02f  1\n",
      "  84r 6.8038868e+02 3.04e+00 5.48e+02  -3.6 1.08e+01  -0.4 9.53e-02 8.47e-05f  1\n",
      "  85r 6.7276347e+02 3.00e+00 2.81e+02  -3.6 3.16e+00  -0.0 4.34e-05 3.30e-01f  1\n",
      "  86r 6.7274945e+02 3.00e+00 3.06e+02  -3.6 4.58e-01   1.3 1.92e-02 3.80e-04h  1\n",
      "  87r 6.6803343e+02 3.00e+00 2.77e+02  -3.6 6.13e-01   0.9 1.66e-01 1.39e-01f  1\n",
      "  88r 6.6496406e+02 3.00e+00 1.68e+02  -3.6 4.28e-01   1.3 1.37e-02 1.01e-01h  1\n",
      "  89r 6.5623633e+02 2.99e+00 1.89e+02  -3.6 5.88e-01   0.8 2.36e-02 3.65e-01f  1\n",
      "iter    objective    inf_pr   inf_du lg(mu)  ||d||  lg(rg) alpha_du alpha_pr  ls\n",
      "  90r 6.5123567e+02 2.99e+00 2.80e+02  -3.6 3.09e-01   1.2 1.01e-01 3.45e-01h  1\n",
      "  91r 6.5092901e+02 2.99e+00 2.49e+02  -3.6 4.93e-01   0.7 1.43e-01 6.22e-02f  1\n",
      "  92r 6.4899367e+02 2.99e+00 2.11e+02  -3.6 2.54e-01   1.2 1.82e-01 2.70e-01f  1\n",
      "  93r 6.4898779e+02 2.98e+00 1.67e+02  -3.6 5.36e-01   0.7 7.85e-02 2.42e-01f  1\n",
      "  94r 6.4877623e+02 2.98e+00 1.51e+02  -3.6 2.25e-01   1.1 1.00e+00 8.75e-02f  1\n",
      "  95r 6.4948150e+02 2.97e+00 8.15e+01  -3.6 6.91e-01   0.6 7.18e-02 2.94e-01f  1\n",
      "  96r 6.4948242e+02 2.97e+00 1.19e+02  -3.6 1.38e+00   0.2 1.33e-01 4.91e-05f  1\n",
      "  97r 6.5049464e+02 2.96e+00 6.82e+01  -3.6 5.68e-01   0.6 4.38e-04 2.02e-01f  1\n",
      "  98r 6.5070231e+02 2.96e+00 1.02e+02  -3.6 2.32e-01   1.0 7.14e-01 2.90e-01f  1\n",
      "  99r 6.5254511e+02 2.95e+00 7.04e+01  -3.6 7.77e-01   0.5 2.66e-01 3.03e-01f  1\n",
      "iter    objective    inf_pr   inf_du lg(mu)  ||d||  lg(rg) alpha_du alpha_pr  ls\n",
      " 100r 6.5254595e+02 2.95e+00 9.69e+01  -3.6 2.35e-01   1.0 4.16e-01 4.44e-04h  1\n",
      " 101r 6.5359760e+02 2.95e+00 7.91e+01  -3.6 7.20e-01   0.5 7.69e-02 1.28e-01f  1\n",
      " 102r 6.5653152e+02 2.94e+00 6.88e+01  -3.6 2.63e-01   0.9 4.68e-01 1.00e+00f  1\n",
      " 103r 6.5676263e+02 2.94e+00 4.81e+01  -3.6 8.00e-01   0.4 2.73e-01 2.41e-02f  1\n",
      " 104r 6.5800609e+02 2.93e+00 5.09e+01  -3.6 5.80e+00  -0.0 1.28e-03 4.28e-02f  1\n",
      " 105r 6.5801288e+02 2.93e+00 4.22e+01  -3.6 7.96e-01   0.4 8.75e-02 5.95e-04f  1\n",
      " 106r 6.5930261e+02 2.93e+00 2.57e+01  -3.6 2.26e+00  -0.1 1.03e-01 2.88e-02f  1\n",
      " 107r 6.6326861e+02 2.93e+00 4.75e+01  -3.6 2.76e+01  -0.6 2.04e-03 1.97e-02f  1\n",
      " 108r 6.6942293e+02 2.92e+00 6.64e+01  -3.6 2.62e+00  -0.1 3.42e-02 1.21e-01f  1\n",
      " 109r 6.7051290e+02 2.91e+00 5.85e+01  -3.6 1.04e+00   0.3 1.01e-01 8.87e-02f  1\n",
      "iter    objective    inf_pr   inf_du lg(mu)  ||d||  lg(rg) alpha_du alpha_pr  ls\n",
      " 110r 6.7051594e+02 2.91e+00 2.09e+01  -3.6 3.12e+00  -0.2 1.60e-01 5.72e-05f  1\n",
      " 111r 6.7538807e+02 2.91e+00 5.46e+01  -3.6 1.07e+00   0.2 2.73e-02 2.72e-01f  1\n",
      " 112r 6.7547143e+02 2.91e+00 4.15e+01  -3.6 3.57e+00  -0.2 4.20e-02 1.32e-03f  1\n",
      " 113r 6.7547801e+02 2.91e+00 9.13e+01  -3.6 7.28e-01   0.2 6.67e-02 2.13e-03h  1\n",
      " 114r 6.7621654e+02 2.91e+00 2.08e+02  -3.6 2.31e+00  -0.3 1.83e-01 6.87e-02f  1\n",
      " 115r 6.7628000e+02 2.91e+00 3.15e+02  -3.6 8.46e-01   0.1 1.45e-01 2.08e-02f  1\n",
      " 116r 6.7706322e+02 2.91e+00 2.86e+02  -3.6 2.40e+00  -0.3 6.45e-02 7.24e-02f  1\n",
      " 117r 6.7736954e+02 2.90e+00 2.60e+02  -3.6 8.09e-01   0.1 9.52e-02 9.47e-02f  1\n",
      " 118r 6.7852820e+02 2.90e+00 2.52e+02  -3.6 2.49e+00  -0.4 1.32e-01 1.03e-01f  1\n",
      " 119r 6.7876387e+02 2.90e+00 2.58e+02  -3.6 1.01e+00   0.0 1.11e-01 6.91e-02f  1\n",
      "iter    objective    inf_pr   inf_du lg(mu)  ||d||  lg(rg) alpha_du alpha_pr  ls\n",
      " 120r 6.7992388e+02 2.90e+00 2.05e+02  -3.6 2.60e+00  -0.4 4.98e-02 1.03e-01f  1\n",
      " 121r 6.8008455e+02 2.90e+00 2.08e+02  -3.6 8.72e-01  -0.0 7.60e-02 4.83e-02f  1\n",
      " 122r 6.8050006e+02 2.90e+00 2.30e+02  -3.6 2.66e+00  -0.5 1.03e-01 3.70e-02f  1\n",
      " 123r 6.8090722e+02 2.90e+00 1.94e+02  -3.6 1.19e+00  -0.1 9.81e-02 1.19e-01f  1\n",
      " 124r 6.8096285e+02 2.90e+00 2.34e+02  -3.6 1.83e+00  -0.5 1.12e-01 5.50e-03f  1\n",
      " 125r 6.8146261e+02 2.90e+00 1.69e+02  -3.6 7.95e-01  -0.1 7.31e-02 1.56e-01f  1\n",
      " 126r 6.8224444e+02 2.90e+00 1.40e+02  -3.6 2.17e+00  -0.6 1.81e-02 7.17e-02f  1\n",
      " 127r 6.8264347e+02 2.90e+00 1.12e+02  -3.6 7.44e-01  -0.2 8.50e-02 1.22e-01f  1\n",
      " 128r 6.8285026e+02 2.90e+00 1.17e+02  -3.6 1.57e+00  -0.6 4.88e-02 2.26e-02f  1\n",
      " 129r 6.8309154e+02 2.90e+00 9.93e+01  -3.6 6.96e-01  -0.2 6.35e-02 8.86e-02f  1\n",
      "iter    objective    inf_pr   inf_du lg(mu)  ||d||  lg(rg) alpha_du alpha_pr  ls\n",
      " 130r 6.8347169e+02 2.90e+00 9.39e+01  -3.6 1.92e+00  -0.7 3.93e-02 4.35e-02f  1\n",
      " 131r 6.8355846e+02 2.90e+00 1.04e+02  -3.6 7.11e-01  -0.3 8.82e-02 3.56e-02h  1\n",
      " 132r 6.8383475e+02 2.90e+00 9.66e+01  -3.6 1.39e+00  -0.8 3.15e-02 4.31e-02f  1\n",
      " 133r 6.8386752e+02 2.90e+00 1.24e+02  -3.6 4.78e-01  -0.3 1.45e-01 1.81e-02h  1\n",
      " 134r 6.8415218e+02 2.90e+00 1.15e+02  -3.6 1.26e+00  -0.8 4.57e-02 5.60e-02f  1\n",
      " 135r 6.8422058e+02 2.90e+00 1.40e+02  -3.6 5.09e-01  -0.4 2.05e-01 4.57e-02h  1\n",
      " 136r 6.8435624e+02 2.90e+00 1.66e+02  -3.6 5.25e-01  -0.9 2.64e-01 4.62e-02h  1\n",
      " 137r 6.8456767e+02 2.90e+00 1.53e+02  -3.6 1.91e-01  -0.4 2.81e-01 1.61e-01h  1\n",
      " 138r 6.8497152e+02 2.90e+00 1.35e+02  -3.6 4.87e-01  -0.9 1.32e-01 1.22e-01h  1\n",
      " 139r 7.1063428e+02 2.90e+00 2.94e+01  -3.6 4.66e+00  -1.4 8.29e-03 5.00e-01f  2\n",
      "iter    objective    inf_pr   inf_du lg(mu)  ||d||  lg(rg) alpha_du alpha_pr  ls\n",
      " 140r 6.8624015e+02 2.91e+00 3.05e+01  -3.6 3.58e+00  -1.9 8.21e-02 3.69e-01h  1\n",
      " 141r 6.8100220e+02 2.91e+00 3.15e+01  -3.6 9.35e-01  -1.4 1.00e+00 3.88e-01h  1\n",
      " 142r 6.8530111e+02 2.91e+00 2.31e+01  -3.6 1.39e+00  -1.9 1.00e+00 2.66e-01h  1\n",
      " 143r 6.9109438e+02 2.91e+00 1.96e+01  -3.6 2.31e+00    -  8.38e-01 1.86e-01h  1\n",
      " 144r 7.0123736e+02 2.91e+00 1.30e+01  -3.6 1.57e+00    -  1.00e+00 2.99e-01h  1\n",
      " 145r 7.3348259e+02 2.91e+00 1.09e-02  -3.6 1.02e+00    -  1.00e+00 1.00e+00h  1\n",
      " 146r 7.3680488e+02 2.91e+00 8.24e-06  -3.6 3.62e-02    -  1.00e+00 1.00e+00h  1\n",
      " 147r 7.3690137e+02 2.91e+00 4.99e-02  -5.5 8.40e-03    -  1.00e+00 1.00e+00f  1\n",
      " 148r 7.4284681e+02 2.90e+00 6.11e+00  -5.5 9.65e+00  -2.4 5.75e-01 1.92e-01f  1\n",
      " 149r 7.7649288e+02 2.90e+00 6.32e+00  -5.5 3.68e+00  -2.0 1.00e+00 4.64e-01f  1\n",
      "iter    objective    inf_pr   inf_du lg(mu)  ||d||  lg(rg) alpha_du alpha_pr  ls\n",
      " 150r 7.5780083e+02 2.89e+00 1.25e-01  -5.5 1.68e+00  -1.5 1.00e+00 1.00e+00h  1\n",
      " 151r 7.4391557e+02 2.89e+00 1.48e+00  -5.5 5.47e+01  -2.0 2.60e-02 6.22e-03f  1\n",
      " 152r 7.3212102e+02 2.89e+00 4.61e+00  -5.5 4.18e+00  -1.6 1.00e+00 9.11e-02h  1\n",
      " 153r 7.2802346e+02 2.89e+00 4.26e+00  -5.5 1.76e+00  -1.2 1.00e+00 8.14e-02h  1\n",
      " 154r 7.0294745e+02 2.89e+00 3.52e+00  -5.5 4.40e+00  -1.6 1.00e+00 1.95e-01h  1\n",
      " 155r 6.6314281e+02 2.89e+00 2.21e-01  -5.5 1.62e+00  -1.2 1.00e+00 9.70e-01h  1\n",
      " 156r 6.5700067e+02 2.89e+00 2.03e+00  -5.5 3.21e+00  -1.7 7.97e-01 7.11e-02f  1\n",
      " 157r 6.2285311e+02 2.89e+00 2.16e+00  -5.5 1.82e+01  -2.2 7.72e-02 5.76e-02f  1\n",
      " 158r 6.0163046e+02 2.89e+00 1.68e+00  -5.5 4.87e+00  -1.7 2.55e-01 1.89e-01f  1\n",
      " 159r 5.9133147e+02 2.88e+00 9.21e-01  -5.5 1.49e+00  -1.3 6.02e-01 4.57e-01h  1\n",
      "iter    objective    inf_pr   inf_du lg(mu)  ||d||  lg(rg) alpha_du alpha_pr  ls\n",
      " 160r 5.8814525e+02 2.88e+00 8.85e-01  -5.5 6.35e+00  -1.8 1.82e-02 2.43e-02f  1\n",
      " 161r 5.6316636e+02 2.88e+00 1.47e+00  -5.5 1.63e+00  -1.4 1.90e-01 1.00e+00f  1\n",
      " 162r 5.5146537e+02 2.88e+00 1.43e+00  -5.5 1.22e+01  -1.8 5.62e-02 5.88e-02f  1\n",
      " 163r 5.3897635e+02 2.87e+00 3.72e+00  -5.5 2.45e+00  -1.4 2.14e-02 4.94e-01f  1\n",
      " 164r 4.9765954e+02 2.85e+00 1.19e+01  -5.5 1.50e+02  -1.9 7.52e-03 4.45e-02f  1\n",
      " 165r 4.9525355e+02 2.82e+00 3.07e+01  -5.5 2.02e+01  -1.5 4.88e-06 2.74e-01f  1\n",
      " 166r 5.0830227e+02 2.82e+00 1.96e+01  -5.5 3.97e+00  -1.0 1.30e-01 4.51e-01h  1\n",
      " 167r 5.0730783e+02 2.82e+00 1.86e+01  -5.5 2.42e+00  -0.6 3.66e-02 5.80e-02h  1\n",
      " 168r 5.0043514e+02 2.82e+00 1.75e+01  -5.5 4.57e+00  -1.1 7.70e-02 1.05e-01f  1\n",
      " 169r 4.9659313e+02 2.82e+00 1.30e+01  -5.5 2.29e+00  -0.7 2.73e-01 2.41e-01h  1\n",
      "iter    objective    inf_pr   inf_du lg(mu)  ||d||  lg(rg) alpha_du alpha_pr  ls\n",
      " 170r 4.8201455e+02 2.81e+00 1.54e+01  -5.5 4.61e+00  -1.1 3.64e-02 1.88e-01f  1\n",
      " 171r 4.6309442e+02 2.80e+00 1.66e+01  -5.5 1.83e+00  -0.7 1.93e-01 1.00e+00f  1\n",
      " 172r 4.5233281e+02 2.79e+00 1.55e+01  -5.5 5.73e+00  -1.2 1.05e-01 1.26e-01f  1\n",
      " 173r 4.2944574e+02 2.77e+00 2.60e+01  -5.5 1.71e+00  -0.8 1.70e-01 1.00e+00f  1\n",
      " 174r 4.2617452e+02 2.76e+00 3.12e+01  -5.5 4.85e+02  -1.2 1.08e-05 1.07e-03f  1\n",
      " 175r 4.2107106e+02 2.75e+00 3.45e+01  -5.5 3.68e+00  -0.8 4.41e-02 1.80e-01f  1\n",
      " 176r 4.1655725e+02 2.74e+00 3.28e+01  -5.5 1.49e+00  -0.4 1.15e-01 6.16e-01f  1\n",
      " 177r 4.1029521e+02 2.71e+00 4.21e+01  -5.5 3.78e+00  -0.9 2.85e-02 3.57e-01f  1\n",
      " 178r 4.0935784e+02 2.70e+00 3.96e+01  -5.5 1.61e+00  -0.4 4.61e-02 2.46e-01f  1\n",
      " 179r 4.1238851e+02 2.63e+00 7.45e+01  -5.5 9.13e+00  -0.9 5.19e-02 3.97e-01f  1\n",
      "iter    objective    inf_pr   inf_du lg(mu)  ||d||  lg(rg) alpha_du alpha_pr  ls\n",
      " 180r 4.1562770e+02 2.59e+00 7.61e+01  -5.5 4.72e+00  -0.5 1.33e-02 3.45e-01f  1\n",
      " 181r 4.1687328e+02 2.56e+00 7.98e+01  -5.5 2.05e+00  -0.1 1.39e-01 1.00e+00f  1\n",
      " 182  4.2456248e+02 2.51e+00 2.62e+02  -1.0 6.45e+01  -4.4 2.57e-02 2.12e-02f  2\n",
      " 183  4.2507159e+02 2.50e+00 2.61e+02  -1.0 5.84e+01  -4.8 7.64e-04 1.84e-03f  7\n",
      " 184  4.2606277e+02 2.49e+00 2.60e+02  -1.0 7.92e+01  -5.3 3.85e-03 6.18e-03f  5\n",
      " 185  4.2757794e+02 2.45e+00 2.56e+02  -1.0 6.44e+01  -5.8 8.46e-03 1.53e-02f  4\n",
      " 186  4.2797772e+02 2.44e+00 2.55e+02  -1.0 4.73e+01  -6.3 1.30e-02 4.34e-03f  6\n",
      " 187  4.2871999e+02 2.42e+00 2.52e+02  -1.0 4.57e+01  -6.8 1.62e-02 1.00e-02f  4\n",
      " 188  4.2948142e+02 2.39e+00 2.49e+02  -1.0 3.85e+01  -7.2 2.00e-02 1.23e-02f  3\n",
      " 189  4.3029300e+02 2.34e+00 2.44e+02  -1.0 3.43e+01  -7.7 2.25e-02 1.80e-02f  2\n",
      "iter    objective    inf_pr   inf_du lg(mu)  ||d||  lg(rg) alpha_du alpha_pr  ls\n",
      " 190  4.3035937e+02 2.31e+00 2.41e+02  -1.0 3.78e+01  -8.2 2.59e-02 1.33e-02f  1\n",
      " 191  4.2878694e+02 2.26e+00 2.35e+02  -1.0 3.54e+01  -8.7 3.81e-02 2.39e-02f  1\n",
      " 192  4.2747951e+02 2.24e+00 2.34e+02  -1.0 2.85e+01  -9.1 1.73e-01 7.37e-03f  1\n",
      " 193  4.2302148e+02 2.21e+00 2.30e+02  -1.0 2.94e+01  -8.7 2.34e-02 1.50e-02f  2\n",
      " 194  4.1875123e+02 2.18e+00 2.28e+02  -1.0 3.14e+01  -9.7 1.05e-01 9.95e-03f  2\n",
      " 195  4.1025199e+02 2.16e+00 2.26e+02  -1.0 3.33e+01 -10.1 3.15e-02 1.02e-02f  3\n",
      " 196  3.9731732e+02 2.13e+00 2.23e+02  -1.0 3.63e+01 -10.6 7.09e-02 1.33e-02f  3\n",
      " 197  3.8465539e+02 2.11e+00 2.20e+02  -1.0 3.68e+01 -11.1 6.93e-02 1.13e-02f  4\n",
      " 198  2.9673729e+02 1.87e+00 1.95e+02  -1.0 4.07e+01 -11.6 3.81e-02 1.12e-01f  1\n",
      " 199  2.9645634e+02 1.86e+00 1.94e+02  -1.0 7.89e+01 -12.1 2.20e-02 6.85e-03f  3\n",
      "iter    objective    inf_pr   inf_du lg(mu)  ||d||  lg(rg) alpha_du alpha_pr  ls\n",
      " 200  2.9778220e+02 1.85e+00 1.93e+02  -1.0 7.98e+01 -12.5 1.01e-02 7.09e-03h  5\n",
      " 201  3.0005714e+02 1.84e+00 1.92e+02  -1.0 7.93e+01 -13.0 7.42e-02 5.24e-03h  6\n",
      " 202  3.0498374e+02 1.82e+00 1.90e+02  -1.0 7.64e+01 -13.5 6.45e-02 7.85e-03h  6\n",
      " 203  3.0905893e+02 1.81e+00 1.89e+02  -1.0 6.98e+01 -14.0 9.93e-02 5.18e-03h  6\n",
      " 204  3.1219754e+02 1.81e+00 1.89e+02  -1.0 6.73e+01 -14.4 1.01e-03 3.24e-03h  7\n",
      " 205  3.1612363e+02 1.80e+00 1.88e+02  -1.0 1.89e+02 -14.9 7.54e-02 2.58e-03h  5\n",
      " 206  3.2172734e+02 1.80e+00 1.88e+02  -1.0 1.60e+02 -15.4 1.61e-03 2.99e-03h  5\n",
      " 207  3.2555712e+02 1.79e+00 1.87e+02  -1.0 2.59e+02 -15.9 1.07e-02 1.74e-03h  5\n",
      " 208  3.3002787e+02 1.79e+00 1.87e+02  -1.0 1.96e+02 -16.3 1.10e-02 2.15e-03h  5\n",
      " 209  4.3485077e+02 1.71e+00 1.79e+02  -1.0 1.47e+02 -16.8 1.54e-02 4.30e-02w  1\n",
      "iter    objective    inf_pr   inf_du lg(mu)  ||d||  lg(rg) alpha_du alpha_pr  ls\n",
      " 210  4.9670177e+02 1.51e+00 1.58e+02  -1.0 2.60e+01 -17.3 1.76e-01 1.19e-01w  1\n",
      " 211  4.9659608e+02 1.51e+00 1.57e+02  -1.0 2.01e+01   0.5 1.52e-02 7.97e-04w  1\n",
      " 212  3.3516663e+02 1.79e+00 1.86e+02  -1.0 1.90e+01   0.1 1.54e-02 2.69e-03h  4\n",
      " 213  3.3687242e+02 1.77e+00 1.85e+02  -1.0 3.11e+01  -0.4 3.56e-01 7.09e-03h  2\n",
      " 214  3.4149805e+02 1.76e+00 1.84e+02  -1.0 3.72e+01  -0.9 1.35e-01 6.69e-03h  7\n",
      " 215  3.4487717e+02 1.75e+00 1.83e+02  -1.0 5.70e+01  -1.4 7.62e-03 3.26e-03h  6\n",
      " 216  3.4983167e+02 1.75e+00 1.83e+02  -1.0 1.54e+02  -1.8 2.90e-02 3.15e-03h  5\n",
      " 217  3.5469806e+02 1.74e+00 1.82e+02  -1.0 1.42e+02  -2.3 5.18e-03 3.21e-03h  5\n",
      " 218  3.5899432e+02 1.74e+00 1.81e+02  -1.0 1.37e+02  -2.8 9.67e-02 3.11e-03h  5\n",
      " 219  3.6404483e+02 1.73e+00 1.81e+02  -1.0 9.20e+01  -3.3 1.87e-02 4.35e-03h  5\n",
      "iter    objective    inf_pr   inf_du lg(mu)  ||d||  lg(rg) alpha_du alpha_pr  ls\n",
      " 220  3.6951254e+02 1.72e+00 1.80e+02  -1.0 6.86e+01  -3.8 1.37e-01 5.47e-03h  5\n",
      " 221  3.7259822e+02 1.72e+00 1.79e+02  -1.0 3.08e+01  -4.2 3.31e-02 3.43e-03h  7\n",
      " 222  6.3618628e+02 1.55e+00 2.17e+02  -1.0 2.97e+01  -4.7 2.06e-01 2.83e-01w  1\n",
      " 223  5.3581307e+02 1.37e+00 1.82e+02  -1.0 1.72e+01  -5.2 7.21e-02 1.51e-01w  1\n",
      " 224  4.3470866e+02 1.09e+00 1.40e+02  -1.0 1.50e+01  -5.7 8.76e-02 2.20e-01w  1\n",
      " 225  3.7621678e+02 1.71e+00 1.78e+02  -1.0 1.34e+01  -6.1 2.06e-01 4.42e-03h  6\n",
      " 226  3.7940067e+02 1.70e+00 1.77e+02  -1.0 2.86e+01  -6.6 1.14e-01 4.34e-03h  7\n",
      " 227  3.8392804e+02 1.69e+00 1.76e+02  -1.0 2.78e+01  -7.1 2.11e-01 6.60e-03h  6\n",
      " 228  3.8809926e+02 1.68e+00 1.75e+02  -1.0 2.76e+01  -7.6 3.22e-03 6.47e-03h  6\n",
      " 229  3.8872236e+02 1.68e+00 1.75e+02  -1.0 3.32e+02  -8.0 1.09e-04 3.72e-04h  7\n",
      "iter    objective    inf_pr   inf_du lg(mu)  ||d||  lg(rg) alpha_du alpha_pr  ls\n",
      " 230  3.8927228e+02 1.68e+00 1.75e+02  -1.0 4.27e+02  -8.5 7.26e-03 2.85e-04h  7\n",
      " 231  3.9065535e+02 1.68e+00 1.75e+02  -1.0 2.28e+02  -9.0 1.24e-03 1.05e-03h  6\n",
      " 232  3.9185346e+02 1.67e+00 1.75e+02  -1.0 2.74e+02  -9.5 1.34e-02 8.45e-04h  6\n",
      " 233  3.9260315e+02 1.67e+00 1.75e+02  -1.0 2.03e+02 -10.0 2.08e-04 5.55e-04h  7\n",
      " 234  3.9297226e+02 1.67e+00 1.75e+02  -1.0 3.57e+02 -10.4 4.69e-03 1.72e-04h  8\n",
      " 235  4.4116676e+02 1.61e+00 1.68e+02  -1.0 1.99e+02 -10.9 1.16e-03 3.53e-02w  1\n",
      " 236  4.4038823e+02 1.61e+00 1.68e+02  -1.0 1.62e+01   0.9 5.77e-03 4.49e-03w  1\n",
      " 237  4.3466245e+02 1.56e+00 1.63e+02  -1.0 1.62e+01   0.5 5.11e-02 2.85e-02w  1\n",
      " 238  3.9374453e+02 1.67e+00 1.74e+02  -1.0 1.60e+01  -0.0 1.16e-03 5.52e-04h  6\n",
      " 239  3.9589328e+02 1.66e+00 1.73e+02  -1.0 2.11e+01  -0.5 2.25e-01 7.69e-03h  1\n",
      "iter    objective    inf_pr   inf_du lg(mu)  ||d||  lg(rg) alpha_du alpha_pr  ls\n",
      " 240  4.0071682e+02 1.64e+00 1.71e+02  -1.0 2.16e+01  -1.0 2.60e-01 1.15e-02h  3\n",
      " 241  4.0432887e+02 1.63e+00 1.70e+02  -1.0 4.10e+01  -1.4 1.51e-02 4.64e-03h  2\n",
      " 242  4.0746188e+02 1.62e+00 1.69e+02  -1.0 2.82e+01  -1.0 2.22e-01 5.08e-03h  4\n",
      " 243  4.1191522e+02 1.61e+00 1.68e+02  -1.0 2.10e+01  -0.6 2.34e-01 1.07e-02h  3\n",
      " 244  4.1359661e+02 1.60e+00 1.67e+02  -1.0 1.32e+02  -1.1 5.12e-03 1.27e-03h  1\n",
      " 245  4.1992188e+02 1.59e+00 1.66e+02  -1.0 2.41e+01  -0.6 3.20e-01 1.14e-02h  5\n",
      " 246  4.2746588e+02 1.55e+00 1.62e+02  -1.0 2.16e+01  -0.2 2.40e-01 2.05e-02h  2\n",
      " 247  4.2834090e+02 1.55e+00 1.62e+02  -1.0 3.98e+02  -0.7 1.12e-03 3.16e-04h  1\n",
      " 248  4.3462061e+02 1.53e+00 1.60e+02  -1.0 2.22e+01  -0.3 2.25e-01 1.36e-02h  5\n",
      " 249  4.3843566e+02 1.50e+00 1.57e+02  -1.0 1.96e+01   0.2 2.18e-01 1.85e-02h  2\n",
      "iter    objective    inf_pr   inf_du lg(mu)  ||d||  lg(rg) alpha_du alpha_pr  ls\n",
      " 250  4.3873559e+02 1.50e+00 1.57e+02  -1.0 2.33e+02  -0.3 1.57e-03 4.84e-04h  1\n",
      " 251  4.4080478e+02 1.48e+00 1.54e+02  -1.0 1.85e+01   0.1 3.91e-01 1.55e-02h  4\n",
      " 252  4.4065271e+02 1.45e+00 1.52e+02  -1.0 2.33e+01   0.5 4.09e-02 1.80e-02h  1\n",
      " 253  4.3874706e+02 1.42e+00 1.48e+02  -1.0 1.88e+01   0.0 3.72e-03 2.44e-02f  4\n",
      " 254  4.3826272e+02 1.41e+00 1.48e+02  -1.0 1.82e+01   0.5 6.71e-03 2.17e-03f  1\n",
      " 255  4.2690287e+02 1.36e+00 1.42e+02  -1.0 1.96e+01  -0.0 4.00e-04 3.89e-02f  3\n",
      " 256  4.2431180e+02 1.36e+00 1.42e+02  -1.0 3.16e+02  -0.5 1.77e-02 1.26e-03f  1\n",
      " 257  4.0975333e+02 1.31e+00 1.37e+02  -1.0 2.45e+01  -0.1 2.91e-02 3.45e-02f  3\n",
      " 258  4.0639931e+02 1.31e+00 1.36e+02  -1.0 1.81e+02  -0.5 5.78e-03 3.04e-03f  1\n",
      " 259  3.9165263e+02 1.25e+00 1.31e+02  -1.0 2.13e+01  -0.1 2.39e-01 4.23e-02f  2\n",
      "iter    objective    inf_pr   inf_du lg(mu)  ||d||  lg(rg) alpha_du alpha_pr  ls\n",
      " 260  3.8344546e+02 1.24e+00 1.29e+02  -1.0 1.70e+02  -0.6 1.09e-02 1.20e-02f  1\n",
      " 261  3.7533314e+02 1.20e+00 1.25e+02  -1.0 2.59e+01  -0.2 1.43e-01 3.22e-02f  1\n",
      " 262  3.6805372e+02 1.17e+00 1.23e+02  -1.0 1.74e+02  -0.6 1.10e-02 1.93e-02f  1\n",
      " 263  3.6578654e+02 1.16e+00 1.21e+02  -1.0 2.71e+01  -0.2 8.62e-02 1.41e-02f  1\n",
      " 264  3.6558008e+02 1.15e+00 1.20e+02  -1.0 8.90e+01  -0.7 1.50e-02 4.05e-03h  1\n",
      " 265  3.5961503e+02 1.10e+00 1.15e+02  -1.0 2.91e+01  -0.3 3.65e-03 4.39e-02f  1\n",
      " 266  3.5729097e+02 1.08e+00 1.13e+02  -1.0 1.95e+02  -0.7 2.01e-02 1.67e-02f  1\n",
      " 267  3.5528542e+02 1.06e+00 1.11e+02  -1.0 2.63e+01  -0.3 1.98e-02 2.00e-02f  1\n",
      " 268  3.5368451e+02 1.05e+00 1.10e+02  -1.0 1.66e+02  -0.8 1.64e-02 1.14e-02f  1\n",
      " 269  3.5133914e+02 1.02e+00 1.07e+02  -1.0 2.57e+01  -0.4 9.41e-02 2.80e-02f  1\n",
      "iter    objective    inf_pr   inf_du lg(mu)  ||d||  lg(rg) alpha_du alpha_pr  ls\n",
      " 270  3.5006280e+02 1.01e+00 1.06e+02  -1.0 1.46e+02  -0.8 1.32e-03 9.85e-03f  1\n",
      " 271  3.4825746e+02 9.81e-01 1.02e+02  -1.0 2.06e+01  -0.4 1.00e-01 2.98e-02f  1\n",
      " 272  3.4632498e+02 9.68e-01 1.01e+02  -1.0 7.72e+01  -0.9 6.32e-03 1.28e-02f  1\n",
      " 273  3.4275754e+02 9.62e-01 1.00e+02  -1.0 1.85e+02  -1.4 2.26e-02 6.54e-03f  1\n",
      " 274  3.3359483e+02 9.59e-01 1.00e+02  -1.0 1.20e+03  -1.8 3.14e-03 2.53e-03f  1\n",
      " 275  3.2892408e+02 9.52e-01 9.94e+01  -1.0 1.85e+02  -1.4 5.05e-03 7.66e-03f  1\n",
      " 276  3.2336946e+02 9.50e-01 9.92e+01  -1.0 8.73e+02  -1.9 2.62e-03 1.87e-03f  1\n",
      " 277  3.1480503e+02 9.50e-01 9.92e+01  -1.0 8.70e+03  -1.9 3.71e-04 4.37e-04f  1\n",
      " 278  3.1159510e+02 9.48e-01 9.90e+01  -1.0 3.91e+02  -2.9 1.02e-02 1.96e-03f  1\n",
      " 279  3.0255700e+02 9.44e-01 9.85e+01  -1.0 7.25e+02  -3.4 3.27e-03 4.45e-03f  1\n",
      "iter    objective    inf_pr   inf_du lg(mu)  ||d||  lg(rg) alpha_du alpha_pr  ls\n",
      " 280  3.0211375e+02 9.39e-01 9.81e+01  -1.0 1.29e+02  -3.9 2.01e-03 4.46e-03h  1\n",
      " 281  2.9467044e+02 9.28e-01 9.69e+01  -1.0 5.41e+02  -4.3 2.36e-03 1.20e-02f  1\n",
      " 282  2.9385434e+02 9.24e-01 9.65e+01  -1.0 1.03e+02  -4.8 8.33e-02 4.69e-03h  1\n",
      " 283  2.8378028e+02 8.78e-01 9.17e+01  -1.0 3.54e+01  -5.3 4.84e-03 4.94e-02f  1\n",
      " 284  2.5792954e+02 7.59e-01 7.93e+01  -1.0 4.17e+01  -5.8 3.54e-01 1.36e-01f  1\n",
      " 285  2.5180374e+02 7.21e-01 7.53e+01  -1.0 2.07e+01  -6.2 1.19e-02 5.04e-02f  1\n",
      " 286  2.3012256e+02 5.66e-01 5.91e+01  -1.0 3.17e+01  -6.7 4.75e-01 2.15e-01f  1\n",
      " 287  2.0887982e+02 3.02e-01 3.16e+01  -1.0 1.68e+01  -7.2 2.24e-02 4.66e-01f  1\n",
      " 288  2.0751582e+02 2.75e-01 2.87e+01  -1.0 6.30e+00  -7.7 2.14e-01 8.99e-02f  1\n",
      " 289  2.0221897e+02 1.11e-01 1.16e+01  -1.0 1.01e+01  -8.1 1.58e-01 5.97e-01f  1\n",
      "iter    objective    inf_pr   inf_du lg(mu)  ||d||  lg(rg) alpha_du alpha_pr  ls\n",
      " 290  1.9205117e+02 3.86e-02 4.03e+00  -1.0 1.09e+01  -8.6 1.10e-01 6.52e-01f  1\n",
      " 291  1.9217316e+02 4.61e-03 1.70e+00  -1.0 3.15e+00  -9.1 3.40e-01 1.00e+00f  1\n",
      " 292  1.8515658e+02 3.94e-03 6.71e-01  -1.0 6.81e+00  -9.6 5.39e-01 9.17e-01f  1\n",
      " 293  1.8244521e+02 2.87e-03 3.48e-01  -1.7 4.40e+00 -10.1 4.34e-01 1.00e+00f  1\n",
      " 294  1.8194647e+02 2.50e-04 1.74e-01  -1.7 2.13e+00 -10.5 5.84e-01 1.00e+00h  1\n",
      " 295  1.8161069e+02 3.29e-04 2.31e-02  -2.5 8.12e-01 -11.0 8.60e-01 1.00e+00h  1\n",
      " 296  1.8140830e+02 2.08e-04 2.36e-02  -3.8 2.12e-01 -11.5 9.89e-01 1.00e+00h  1\n",
      " 297  1.8136863e+02 2.89e-05 2.55e-03  -3.8 1.29e-01 -12.0 1.00e+00 1.00e+00h  1\n",
      " 298  1.8136431e+02 1.38e-06 8.59e-05  -3.8 5.82e-02 -12.4 1.00e+00 1.00e+00h  1\n",
      " 299  1.8136048e+02 5.65e-07 4.44e-05  -5.7 3.05e-02 -12.9 1.00e+00 1.00e+00h  1\n",
      "iter    objective    inf_pr   inf_du lg(mu)  ||d||  lg(rg) alpha_du alpha_pr  ls\n",
      " 300  1.8136042e+02 8.56e-09 3.52e-07  -5.7 7.88e-03 -13.4 1.00e+00 1.00e+00h  1\n",
      " 301  1.8136038e+02 1.77e-10 1.12e-08  -8.6 9.40e-04 -13.9 1.00e+00 1.00e+00h  1\n",
      " 302  1.8136038e+02 1.42e-14 1.42e-13  -8.6 8.52e-06 -14.3 1.00e+00 1.00e+00h  1\n",
      "\n",
      "Number of Iterations....: 302\n",
      "\n",
      "                                   (scaled)                 (unscaled)\n",
      "Objective...............:   1.8136037606958024e+02    1.8136037606958024e+02\n",
      "Dual infeasibility......:   1.4210854715202004e-13    1.4210854715202004e-13\n",
      "Constraint violation....:   1.4210854715202004e-14    1.4210854715202004e-14\n",
      "Complementarity.........:   2.5090508180019023e-09    2.5090508180019023e-09\n",
      "Overall NLP error.......:   2.5090508180019023e-09    2.5090508180019023e-09\n",
      "\n",
      "\n",
      "Number of objective function evaluations             = 749\n",
      "Number of objective gradient evaluations             = 145\n",
      "Number of equality constraint evaluations            = 749\n",
      "Number of inequality constraint evaluations          = 749\n",
      "Number of equality constraint Jacobian evaluations   = 304\n",
      "Number of inequality constraint Jacobian evaluations = 304\n",
      "Number of Lagrangian Hessian evaluations             = 302\n",
      "Total CPU secs in IPOPT (w/o function evaluations)   =      2.527\n",
      "Total CPU secs in NLP function evaluations           =      0.699\n",
      "\n",
      "EXIT: Optimal Solution Found.\n",
      "      solver  :   t_proc      (avg)   t_wall      (avg)    n_eval\n",
      "       nlp_f  |  31.75ms ( 42.39us)  31.71ms ( 42.33us)       749\n",
      "       nlp_g  |  93.88ms (125.34us)  93.77ms (125.20us)       749\n",
      "    nlp_grad  | 682.00us (682.00us) 681.96us (681.96us)         1\n",
      "  nlp_grad_f  |  14.72ms (100.82us)  14.73ms (100.86us)       146\n",
      "  nlp_hess_l  | 455.77ms (  1.51ms) 455.99ms (  1.51ms)       301\n",
      "   nlp_jac_g  | 106.11ms (347.90us) 106.10ms (347.86us)       305\n",
      "       total  |   3.25 s (  3.25 s)   3.24 s (  3.24 s)         1\n"
     ]
    }
   ],
   "source": [
    "# run input prediction for one time \n",
    "# with suppress_stdout():\n",
    "mpc_res = mpc_solver(p=vertcat(x_0, x_target1), lbg=lb_g, ubg=ub_g, lbx = lb_opt_x, ubx = ub_opt_x)"
   ]
  },
  {
   "cell_type": "code",
   "execution_count": 18,
   "metadata": {},
   "outputs": [],
   "source": [
    "opt_x_k = opt_x(mpc_res['x'])\n",
    "X_k = horzcat(*opt_x_k['x',:,0,:])"
   ]
  },
  {
   "cell_type": "code",
   "execution_count": 19,
   "metadata": {},
   "outputs": [
    {
     "data": {
      "image/png": "[encoded data removed]",
      "text/plain": [
       "<Figure size 1296x1008 with 3 Axes>"
      ]
     },
     "metadata": {
      "needs_background": "light"
     },
     "output_type": "display_data"
    }
   ],
   "source": [
    "%matplotlib inline \n",
    "viz.plot_data(np.asarray(X_k))\n"
   ]
  },
  {
   "cell_type": "code",
   "execution_count": 20,
   "metadata": {},
   "outputs": [
    {
     "data": {
      "image/png": "[encoded data removed]",
      "text/plain": [
       "<Figure size 864x576 with 1 Axes>"
      ]
     },
     "metadata": {
      "needs_background": "light"
     },
     "output_type": "display_data"
    }
   ],
   "source": [
    "%matplotlib qt \n",
    "viz.simulation_viz(np.asarray(X_k), obs_pos, obs_rad)"
   ]
  },
  {
   "cell_type": "markdown",
   "metadata": {},
   "source": [
    "We define target values for phi and the cart position as well as a threshold. Based on this values we will figure which solver is to be used. If following equations are fullfilled the system is expected to be in the target state. With $T$ as threshold:\n",
    "\\begin{align}\n",
    "&| \\sin(\\phi_1) - \\sin(\\phi_{1,target}) | &\\leq T \\\\\n",
    "&| \\sin(\\phi_2) - \\sin(\\phi_{2,target}) | &\\leq T \\\\\n",
    "&| x_c - x_{c,target} | &\\leq T \\\\\n",
    "\\end{align}\n",
    "The accuracy can easily be varied by adjusting the threshold value.\n",
    "If these equations are fullfilled the next solver can be started or the final state is reached. In our case we want to first change the solver, which has an differetn final position set. If the second target state is reached we want the mpc loop to end.\n"
   ]
  },
  {
   "cell_type": "code",
   "execution_count": 21,
   "metadata": {},
   "outputs": [],
   "source": [
    "# Initialize result lists for states and inputs\n",
    "res_x_mpc = [x_0]\n",
    "res_u_mpc = []\n",
    "xsoll = x_target1\n",
    "\n",
    "first_solver = True\n",
    "\n",
    "thres = 0.075\n",
    "phi1 = np.infty\n",
    "phi2 = np.infty\n",
    "xc = np.infty\n",
    "\n",
    "phi1_t = 0.0\n",
    "phi2_t = 0.0 \n",
    "xc_t = 0.0"
   ]
  },
  {
   "cell_type": "code",
   "execution_count": 22,
   "metadata": {
    "scrolled": true
   },
   "outputs": [
    {
     "name": "stderr",
     "output_type": "stream",
     "text": [
      "  0% (1 of 1000) |                       | Elapsed Time: 0:00:03 ETA:   0:51:16"
     ]
    },
    {
     "name": "stdout",
     "output_type": "stream",
     "text": [
      "\n",
      "xc: 0.00102691 phi1: -3.14062 phi2 -3.13997 solver 1\n"
     ]
    },
    {
     "name": "stderr",
     "output_type": "stream",
     "text": [
      "  1% (12 of 1000) |                      | Elapsed Time: 0:00:16 ETA:   0:16:30"
     ]
    },
    {
     "name": "stdout",
     "output_type": "stream",
     "text": [
      "\n",
      "xc: 0.122557 phi1: -3.02705 phi2 -2.96844 solver 1\n"
     ]
    },
    {
     "name": "stderr",
     "output_type": "stream",
     "text": [
      "  2% (22 of 1000) |                      | Elapsed Time: 0:00:28 ETA:   0:20:49"
     ]
    },
    {
     "name": "stdout",
     "output_type": "stream",
     "text": [
      "\n",
      "xc: 0.4215 phi1: -2.77024 phi2 -2.7047 solver 1\n"
     ]
    },
    {
     "name": "stderr",
     "output_type": "stream",
     "text": [
      "  3% (32 of 1000) |                      | Elapsed Time: 0:00:42 ETA:   0:24:58"
     ]
    },
    {
     "name": "stdout",
     "output_type": "stream",
     "text": [
      "\n",
      "xc: 0.745943 phi1: -2.59958 phi2 -2.71123 solver 1\n"
     ]
    },
    {
     "name": "stderr",
     "output_type": "stream",
     "text": [
      "  4% (42 of 1000) |                      | Elapsed Time: 0:00:57 ETA:   0:33:58"
     ]
    },
    {
     "name": "stdout",
     "output_type": "stream",
     "text": [
      "\n",
      "xc: 0.979501 phi1: -2.72164 phi2 -2.99625 solver 1\n"
     ]
    },
    {
     "name": "stderr",
     "output_type": "stream",
     "text": [
      "  5% (52 of 1000) |#                     | Elapsed Time: 0:01:10 ETA:   0:43:37"
     ]
    },
    {
     "name": "stdout",
     "output_type": "stream",
     "text": [
      "\n",
      "xc: 1.07477 phi1: -3.19993 phi2 -3.30202 solver 1\n"
     ]
    },
    {
     "name": "stderr",
     "output_type": "stream",
     "text": [
      "  6% (62 of 1000) |#                     | Elapsed Time: 0:01:40 ETA:   0:39:18"
     ]
    },
    {
     "name": "stdout",
     "output_type": "stream",
     "text": [
      "\n",
      "xc: 0.995439 phi1: -3.85429 phi2 -3.64332 solver 1\n"
     ]
    },
    {
     "name": "stderr",
     "output_type": "stream",
     "text": [
      "  7% (72 of 1000) |#                     | Elapsed Time: 0:02:01 ETA:   0:20:14"
     ]
    },
    {
     "name": "stdout",
     "output_type": "stream",
     "text": [
      "\n",
      "xc: 0.826511 phi1: -4.25565 phi2 -4.09518 solver 1\n"
     ]
    },
    {
     "name": "stderr",
     "output_type": "stream",
     "text": [
      "  8% (82 of 1000) |#                     | Elapsed Time: 0:02:15 ETA:   0:20:36"
     ]
    },
    {
     "name": "stdout",
     "output_type": "stream",
     "text": [
      "\n",
      "xc: 0.551556 phi1: -4.31766 phi2 -4.31545 solver 1\n"
     ]
    },
    {
     "name": "stderr",
     "output_type": "stream",
     "text": [
      "  9% (92 of 1000) |##                    | Elapsed Time: 0:02:30 ETA:   0:41:25"
     ]
    },
    {
     "name": "stdout",
     "output_type": "stream",
     "text": [
      "\n",
      "xc: 0.189294 phi1: -4.06783 phi2 -4.04802 solver 1\n"
     ]
    },
    {
     "name": "stderr",
     "output_type": "stream",
     "text": [
      " 10% (102 of 1000) |##                   | Elapsed Time: 0:02:51 ETA:   0:30:02"
     ]
    },
    {
     "name": "stdout",
     "output_type": "stream",
     "text": [
      "\n",
      "xc: -0.0719289 phi1: -3.43773 phi2 -3.24738 solver 1\n"
     ]
    },
    {
     "name": "stderr",
     "output_type": "stream",
     "text": [
      " 11% (112 of 1000) |##                   | Elapsed Time: 0:03:13 ETA:   0:22:23"
     ]
    },
    {
     "name": "stdout",
     "output_type": "stream",
     "text": [
      "\n",
      "xc: -0.105288 phi1: -2.39193 phi2 -2.47528 solver 1\n"
     ]
    },
    {
     "name": "stderr",
     "output_type": "stream",
     "text": [
      " 12% (122 of 1000) |##                   | Elapsed Time: 0:03:37 ETA:   0:34:07"
     ]
    },
    {
     "name": "stdout",
     "output_type": "stream",
     "text": [
      "\n",
      "xc: -0.175525 phi1: -1.60261 phi2 -2.0017 solver 1\n"
     ]
    },
    {
     "name": "stderr",
     "output_type": "stream",
     "text": [
      " 13% (131 of 1000) |##                   | Elapsed Time: 0:04:00 ETA:   0:48:18"
     ]
    },
    {
     "name": "stdout",
     "output_type": "stream",
     "text": [
      "\n",
      "xc: -0.188459 phi1: -1.30478 phi2 -1.70159 solver 1\n"
     ]
    },
    {
     "name": "stderr",
     "output_type": "stream",
     "text": [
      " 14% (141 of 1000) |##                   | Elapsed Time: 0:04:13 ETA:   0:12:51"
     ]
    },
    {
     "name": "stdout",
     "output_type": "stream",
     "text": [
      "\n",
      "xc: -0.0502071 phi1: -1.46026 phi2 -1.8357 solver 1\n"
     ]
    },
    {
     "name": "stderr",
     "output_type": "stream",
     "text": [
      " 15% (151 of 1000) |###                  | Elapsed Time: 0:04:32 ETA:   0:46:13"
     ]
    },
    {
     "name": "stdout",
     "output_type": "stream",
     "text": [
      "\n",
      "xc: 0.108392 phi1: -2.06165 phi2 -2.38422 solver 1\n"
     ]
    },
    {
     "name": "stderr",
     "output_type": "stream",
     "text": [
      " 16% (162 of 1000) |###                  | Elapsed Time: 0:05:08 ETA:   0:55:07"
     ]
    },
    {
     "name": "stdout",
     "output_type": "stream",
     "text": [
      "\n",
      "xc: 0.0683247 phi1: -3.20802 phi2 -3.10836 solver 1\n"
     ]
    },
    {
     "name": "stderr",
     "output_type": "stream",
     "text": [
      " 17% (171 of 1000) |###                  | Elapsed Time: 0:05:35 ETA:   0:21:42"
     ]
    },
    {
     "name": "stdout",
     "output_type": "stream",
     "text": [
      "\n",
      "xc: -0.122327 phi1: -4.3774 phi2 -4.34157 solver 1\n"
     ]
    },
    {
     "name": "stderr",
     "output_type": "stream",
     "text": [
      " 18% (182 of 1000) |###                  | Elapsed Time: 0:05:56 ETA:   0:24:57"
     ]
    },
    {
     "name": "stdout",
     "output_type": "stream",
     "text": [
      "\n",
      "xc: -0.243158 phi1: -5.13416 phi2 -5.25344 solver 1\n"
     ]
    },
    {
     "name": "stderr",
     "output_type": "stream",
     "text": [
      " 19% (191 of 1000) |####                 | Elapsed Time: 0:06:11 ETA:   0:27:15"
     ]
    },
    {
     "name": "stdout",
     "output_type": "stream",
     "text": [
      "\n",
      "xc: -0.288658 phi1: -5.59653 phi2 -5.6704 solver 1\n"
     ]
    },
    {
     "name": "stderr",
     "output_type": "stream",
     "text": [
      " 20% (202 of 1000) |####                 | Elapsed Time: 0:06:34 ETA:   0:40:58"
     ]
    },
    {
     "name": "stdout",
     "output_type": "stream",
     "text": [
      "\n",
      "xc: -0.218355 phi1: -5.88682 phi2 -5.9238 solver 1\n"
     ]
    },
    {
     "name": "stderr",
     "output_type": "stream",
     "text": [
      " 21% (212 of 1000) |####                 | Elapsed Time: 0:06:53 ETA:   0:26:37"
     ]
    },
    {
     "name": "stdout",
     "output_type": "stream",
     "text": [
      "\n",
      "xc: -0.0693495 phi1: -6.08651 phi2 -6.10827 solver 1\n"
     ]
    },
    {
     "name": "stderr",
     "output_type": "stream",
     "text": [
      " 22% (222 of 1000) |####                 | Elapsed Time: 0:07:13 ETA:   0:28:10"
     ]
    },
    {
     "name": "stdout",
     "output_type": "stream",
     "text": [
      "\n",
      "xc: 0.116028 phi1: -6.23776 phi2 -6.26391 solver 2\n"
     ]
    },
    {
     "name": "stderr",
     "output_type": "stream",
     "text": [
      " 23% (232 of 1000) |####                 | Elapsed Time: 0:07:36 ETA:   0:20:27"
     ]
    },
    {
     "name": "stdout",
     "output_type": "stream",
     "text": [
      "\n",
      "xc: 0.227412 phi1: -6.28956 phi2 -6.30896 solver 2\n"
     ]
    },
    {
     "name": "stderr",
     "output_type": "stream",
     "text": [
      " 24% (242 of 1000) |#####                | Elapsed Time: 0:07:54 ETA:   0:21:49"
     ]
    },
    {
     "name": "stdout",
     "output_type": "stream",
     "text": [
      "\n",
      "xc: 0.26625 phi1: -6.26562 phi2 -6.27256 solver 2\n"
     ]
    },
    {
     "name": "stderr",
     "output_type": "stream",
     "text": [
      " 25% (252 of 1000) |#####                | Elapsed Time: 0:08:11 ETA:   0:27:54"
     ]
    },
    {
     "name": "stdout",
     "output_type": "stream",
     "text": [
      "\n",
      "xc: 0.29387 phi1: -6.22123 phi2 -6.21891 solver 2\n"
     ]
    },
    {
     "name": "stderr",
     "output_type": "stream",
     "text": [
      " 26% (262 of 1000) |#####                | Elapsed Time: 0:08:27 ETA:   0:18:05"
     ]
    },
    {
     "name": "stdout",
     "output_type": "stream",
     "text": [
      "\n",
      "xc: 0.363669 phi1: -6.19492 phi2 -6.19168 solver 2\n"
     ]
    },
    {
     "name": "stderr",
     "output_type": "stream",
     "text": [
      " 27% (271 of 1000) |#####                | Elapsed Time: 0:08:40 ETA:   0:20:21"
     ]
    },
    {
     "name": "stdout",
     "output_type": "stream",
     "text": [
      "\n",
      "xc: 0.481355 phi1: -6.18263 phi2 -6.18047 solver 2\n"
     ]
    },
    {
     "name": "stderr",
     "output_type": "stream",
     "text": [
      " 28% (282 of 1000) |#####                | Elapsed Time: 0:09:04 ETA:   0:26:53"
     ]
    },
    {
     "name": "stdout",
     "output_type": "stream",
     "text": [
      "\n",
      "xc: 0.634959 phi1: -6.16789 phi2 -6.15949 solver 2\n"
     ]
    },
    {
     "name": "stderr",
     "output_type": "stream",
     "text": [
      " 29% (292 of 1000) |######               | Elapsed Time: 0:09:24 ETA:   0:24:26"
     ]
    },
    {
     "name": "stdout",
     "output_type": "stream",
     "text": [
      "\n",
      "xc: 0.841872 phi1: -6.16434 phi2 -6.13186 solver 2\n"
     ]
    },
    {
     "name": "stderr",
     "output_type": "stream",
     "text": [
      " 30% (301 of 1000) |######               | Elapsed Time: 0:10:07 ETA:   1:09:22"
     ]
    },
    {
     "name": "stdout",
     "output_type": "stream",
     "text": [
      "\n",
      "xc: 1.22872 phi1: -6.30252 phi2 -6.26558 solver 2\n"
     ]
    },
    {
     "name": "stderr",
     "output_type": "stream",
     "text": [
      " 31% (312 of 1000) |######               | Elapsed Time: 0:10:54 ETA:   0:35:55"
     ]
    },
    {
     "name": "stdout",
     "output_type": "stream",
     "text": [
      "\n",
      "xc: 1.82121 phi1: -6.65846 phi2 -6.69528 solver 2\n"
     ]
    },
    {
     "name": "stderr",
     "output_type": "stream",
     "text": [
      " 32% (321 of 1000) |######               | Elapsed Time: 0:11:36 ETA:   1:03:51"
     ]
    },
    {
     "name": "stdout",
     "output_type": "stream",
     "text": [
      "\n",
      "xc: 2.4973 phi1: -7.24033 phi2 -7.52934 solver 2\n"
     ]
    },
    {
     "name": "stderr",
     "output_type": "stream",
     "text": [
      " 33% (331 of 1000) |######               | Elapsed Time: 0:12:27 ETA:   1:12:49"
     ]
    },
    {
     "name": "stdout",
     "output_type": "stream",
     "text": [
      "\n",
      "xc: 2.97252 phi1: -8.10457 phi2 -8.62682 solver 2\n"
     ]
    },
    {
     "name": "stderr",
     "output_type": "stream",
     "text": [
      " 34% (342 of 1000) |#######              | Elapsed Time: 0:14:06 ETA:   2:24:05"
     ]
    },
    {
     "name": "stdout",
     "output_type": "stream",
     "text": [
      "\n",
      "xc: 3.20063 phi1: -9.64988 phi2 -9.34654 solver 2\n"
     ]
    },
    {
     "name": "stderr",
     "output_type": "stream",
     "text": [
      " 35% (351 of 1000) |#######              | Elapsed Time: 0:14:59 ETA:   1:16:30"
     ]
    },
    {
     "name": "stdout",
     "output_type": "stream",
     "text": [
      "\n",
      "xc: 3.42549 phi1: -10.8748 phi2 -10.9888 solver 2\n"
     ]
    },
    {
     "name": "stderr",
     "output_type": "stream",
     "text": [
      " 36% (362 of 1000) |#######              | Elapsed Time: 0:16:05 ETA:   0:50:23"
     ]
    },
    {
     "name": "stdout",
     "output_type": "stream",
     "text": [
      "\n",
      "xc: 3.75502 phi1: -11.6852 phi2 -12.0709 solver 2\n"
     ]
    },
    {
     "name": "stderr",
     "output_type": "stream",
     "text": [
      " 37% (371 of 1000) |#######              | Elapsed Time: 0:16:40 ETA:   0:39:00"
     ]
    },
    {
     "name": "stdout",
     "output_type": "stream",
     "text": [
      "\n",
      "xc: 3.94051 phi1: -12.1798 phi2 -12.3712 solver 2\n"
     ]
    },
    {
     "name": "stderr",
     "output_type": "stream",
     "text": [
      " 38% (381 of 1000) |########             | Elapsed Time: 0:17:26 ETA:   1:08:55"
     ]
    },
    {
     "name": "stdout",
     "output_type": "stream",
     "text": [
      "\n",
      "xc: 4.01023 phi1: -12.3909 phi2 -12.4562 solver 2\n"
     ]
    },
    {
     "name": "stderr",
     "output_type": "stream",
     "text": [
      " 38% (382 of 1000) |########             | Elapsed Time: 0:17:31 ETA:   0:48:22"
     ]
    }
   ],
   "source": [
    "for i in progressbar.progressbar(range(N_sim)):\n",
    "    # 01 - Your code here!\n",
    "    # solve optimization problem\n",
    "    with io.StringIO() as buf, redirect_stdout(buf):\n",
    "        mpc_res = mpc_solver(p=vertcat(x_0, xsoll), lbg=lb_g, ubg=ub_g, lbx = lb_opt_x, ubx = ub_opt_x)\n",
    "\n",
    "        # optionally: Warmstart the optimizer by passing the previous solution as an initial guess!\n",
    "        if i>0:\n",
    "            mpc_res = mpc_solver(p=vertcat(x_0, xsoll), x0=opt_x_k, lbg=lb_g, ubg=ub_g, lbx = lb_opt_x, ubx = ub_opt_x)\n",
    "        \n",
    "        # ger stdout as string\n",
    "        std_output = buf.getvalue()\n",
    "        \n",
    "        if \"EXIT: Converged to a point of local infeasibility. Problem may be infeasible.\" in std_output:\n",
    "            pass\n",
    "\n",
    "    opt_x_k = opt_x(mpc_res['x'])\n",
    "    u_k = opt_x_k['u',0]\n",
    "\n",
    "    res_integrator = ode_solver(x0=x_0, p=u_k)\n",
    "    x_next = res_integrator['xf']\n",
    " \n",
    "    x_0 = x_next\n",
    "\n",
    "    res_x_mpc.append(x_next)\n",
    "    res_u_mpc.append(u_k)\n",
    "\n",
    "    \n",
    "    xc = x_0[0]\n",
    "    phi1 = x_0[1]\n",
    "    phi2 = x_0[2]\n",
    "    \n",
    "    # console log\n",
    "    if not i % 10:\n",
    "        if first_solver:\n",
    "            solver = \"solver 1\"\n",
    "        else:\n",
    "            solver = \"solver 2\"\n",
    "            \n",
    "        print(\"\\r\")\n",
    "        print(\"xc:\", xc, \"phi1:\", phi1, \"phi2\", phi2, solver)\n",
    "\n",
    "    if (abs(np.sin(0.5*phi1) - np.sin(0.5*phi1_t)) - thres <= 0 and \\\n",
    "                abs(np.sin(0.5*phi2) - np.sin(0.5*phi2_t)) - thres <= 0 and \\\n",
    "                abs(xc - xc_t) - thres <= 0):\n",
    "        if first_solver:\n",
    "                # activate second solver \n",
    "                first_solver = False\n",
    "                xc_t = x_target2[0]\n",
    "                xsoll = x_target2\n",
    "                \n",
    "        else:\n",
    "            break\n",
    "\n",
    "    \n",
    "    \n",
    "# Make an array from the list of arrays:\n",
    "res_x_mpc = np.concatenate(res_x_mpc,axis=1)\n",
    "res_u_mpc = np.concatenate(res_u_mpc, axis=1)"
   ]
  },
  {
   "cell_type": "markdown",
   "metadata": {},
   "source": [
    "When the mpc loop is finished and the results are saved in a suitable format, we can visualize them using our visualilzer class."
   ]
  },
  {
   "cell_type": "code",
   "execution_count": 24,
   "metadata": {},
   "outputs": [],
   "source": [
    "%matplotlib qt\n",
    "viz.simulation_viz(res_x_mpc, obs_pos, obs_rad, res_u_mpc)"
   ]
  },
  {
   "cell_type": "code",
   "execution_count": 25,
   "metadata": {},
   "outputs": [
    {
     "data": {
      "image/png": "[encoded data removed]",
      "text/plain": [
       "<Figure size 1296x1008 with 3 Axes>"
      ]
     },
     "metadata": {
      "needs_background": "light"
     },
     "output_type": "display_data"
    }
   ],
   "source": [
    "%matplotlib inline\n",
    "viz.plot_data(res_x_mpc)"
   ]
  },
  {
   "cell_type": "code",
   "execution_count": null,
   "metadata": {},
   "outputs": [],
   "source": [
    "# Backup states and inputs for plotting \n",
    "with open('obstacle_states2.npy', 'wb') as f:\n",
    "    np.save(f, res_x_mpc)\n",
    "    \n",
    "with open('obstacle_inputs2.npy', 'wb') as f:\n",
    "    np.save(f, res_u_mpc)"
   ]
  },
  {
   "cell_type": "code",
   "execution_count": null,
   "metadata": {},
   "outputs": [],
   "source": []
  }
 ],
 "metadata": {
  "kernelspec": {
   "display_name": "Python (mytorch)",
   "language": "python",
   "name": "mytorch"
  },
  "language_info": {
   "codemirror_mode": {
    "name": "ipython",
    "version": 3
   },
   "file_extension": ".py",
   "mimetype": "text/x-python",
   "name": "python",
   "nbconvert_exporter": "python",
   "pygments_lexer": "ipython3",
   "version": "3.7.6"
  }
 },
 "nbformat": 4,
 "nbformat_minor": 4
}
